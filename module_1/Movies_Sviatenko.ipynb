{
 "cells": [
  {
   "cell_type": "code",
   "execution_count": 1,
   "metadata": {
    "_cell_guid": "b1076dfc-b9ad-4769-8c92-a6c4dae69d19",
    "_uuid": "8f2839f25d086af736a60e9eeb907d3b93b6e0e5",
    "colab": {},
    "colab_type": "code",
    "id": "U2D2gTdJVp90"
   },
   "outputs": [],
   "source": [
    "import numpy as np\n",
    "import pandas as pd\n",
    "import seaborn as sns\n",
    "import matplotlib.pyplot as plt\n",
    "import collections\n",
    "import datetime\n",
    "\n",
    "from datetime import datetime, timedelta\n",
    "from collections import Counter"
   ]
  },
  {
   "cell_type": "code",
   "execution_count": 2,
   "metadata": {
    "_cell_guid": "79c7e3d0-c299-4dcb-8224-4455121ee9b0",
    "_uuid": "d629ff2d2480ee46fbb7e2d37f6b5fab8052498a",
    "colab": {},
    "colab_type": "code",
    "id": "oyGfxL3eVp9-",
    "scrolled": true
   },
   "outputs": [
    {
     "data": {
      "text/html": [
       "<div>\n",
       "<style scoped>\n",
       "    .dataframe tbody tr th:only-of-type {\n",
       "        vertical-align: middle;\n",
       "    }\n",
       "\n",
       "    .dataframe tbody tr th {\n",
       "        vertical-align: top;\n",
       "    }\n",
       "\n",
       "    .dataframe thead th {\n",
       "        text-align: right;\n",
       "    }\n",
       "</style>\n",
       "<table border=\"1\" class=\"dataframe\">\n",
       "  <thead>\n",
       "    <tr style=\"text-align: right;\">\n",
       "      <th></th>\n",
       "      <th>imdb_id</th>\n",
       "      <th>budget</th>\n",
       "      <th>revenue</th>\n",
       "      <th>original_title</th>\n",
       "      <th>cast</th>\n",
       "      <th>director</th>\n",
       "      <th>tagline</th>\n",
       "      <th>overview</th>\n",
       "      <th>runtime</th>\n",
       "      <th>genres</th>\n",
       "      <th>production_companies</th>\n",
       "      <th>release_date</th>\n",
       "      <th>vote_average</th>\n",
       "      <th>release_year</th>\n",
       "    </tr>\n",
       "  </thead>\n",
       "  <tbody>\n",
       "    <tr>\n",
       "      <th>1676</th>\n",
       "      <td>tt0413300</td>\n",
       "      <td>258000000</td>\n",
       "      <td>890871626</td>\n",
       "      <td>Spider-Man 3</td>\n",
       "      <td>Tobey Maguire|Kirsten Dunst|James Franco|Thoma...</td>\n",
       "      <td>Sam Raimi</td>\n",
       "      <td>The battle within.</td>\n",
       "      <td>The seemingly invincible Spider-Man goes up ag...</td>\n",
       "      <td>139</td>\n",
       "      <td>Fantasy|Action|Adventure</td>\n",
       "      <td>Columbia Pictures|Laura Ziskin Productions|Mar...</td>\n",
       "      <td>5/1/2007</td>\n",
       "      <td>5.8</td>\n",
       "      <td>2007</td>\n",
       "    </tr>\n",
       "    <tr>\n",
       "      <th>766</th>\n",
       "      <td>tt1448755</td>\n",
       "      <td>66000000</td>\n",
       "      <td>57777106</td>\n",
       "      <td>Killer Elite</td>\n",
       "      <td>Jason Statham|Clive Owen|Robert De Niro|Domini...</td>\n",
       "      <td>Gary McKendry</td>\n",
       "      <td>May the Best Man Live</td>\n",
       "      <td>Based on a shocking true story, Killer Elite p...</td>\n",
       "      <td>116</td>\n",
       "      <td>Action|Adventure|Thriller</td>\n",
       "      <td>Current Entertainment|Omnilab Media|Ambience E...</td>\n",
       "      <td>9/23/2011</td>\n",
       "      <td>6.0</td>\n",
       "      <td>2011</td>\n",
       "    </tr>\n",
       "    <tr>\n",
       "      <th>1203</th>\n",
       "      <td>tt2302755</td>\n",
       "      <td>70000000</td>\n",
       "      <td>161025640</td>\n",
       "      <td>Olympus Has Fallen</td>\n",
       "      <td>Gerard Butler|Aaron Eckhart|Angela Bassett|Mor...</td>\n",
       "      <td>Antoine Fuqua</td>\n",
       "      <td>When our flag falls our nation will rise.</td>\n",
       "      <td>When the White House (Secret Service Code: \"Ol...</td>\n",
       "      <td>120</td>\n",
       "      <td>Action|Thriller</td>\n",
       "      <td>Nu Image Films|Millennium Films</td>\n",
       "      <td>3/20/2013</td>\n",
       "      <td>6.2</td>\n",
       "      <td>2013</td>\n",
       "    </tr>\n",
       "    <tr>\n",
       "      <th>238</th>\n",
       "      <td>tt2752758</td>\n",
       "      <td>7000000</td>\n",
       "      <td>36433975</td>\n",
       "      <td>Devil's Due</td>\n",
       "      <td>Allison Miller|Zach Gilford|Sam Anderson|Rober...</td>\n",
       "      <td>Matt Bettinelli-Olpin|Tyler Gillett</td>\n",
       "      <td>The Devil Always Gets His Due</td>\n",
       "      <td>An unexpected pregnancy takes a terrifying tur...</td>\n",
       "      <td>89</td>\n",
       "      <td>Horror</td>\n",
       "      <td>Twentieth Century Fox Film Corporation|Davis E...</td>\n",
       "      <td>1/8/2014</td>\n",
       "      <td>4.5</td>\n",
       "      <td>2014</td>\n",
       "    </tr>\n",
       "    <tr>\n",
       "      <th>1544</th>\n",
       "      <td>tt0365830</td>\n",
       "      <td>22000000</td>\n",
       "      <td>13405595</td>\n",
       "      <td>Tenacious D in The Pick of Destiny</td>\n",
       "      <td>Jack Black|Kyle Gass|Ronnie James Dio|Tim Robb...</td>\n",
       "      <td>Liam Lynch</td>\n",
       "      <td>An epic quest. A magical guitar pick. A chance...</td>\n",
       "      <td>In Venice Beach, naive Midwesterner JB bonds w...</td>\n",
       "      <td>93</td>\n",
       "      <td>Comedy|Music</td>\n",
       "      <td>Red Hour Films</td>\n",
       "      <td>11/22/2006</td>\n",
       "      <td>6.2</td>\n",
       "      <td>2006</td>\n",
       "    </tr>\n",
       "  </tbody>\n",
       "</table>\n",
       "</div>"
      ],
      "text/plain": [
       "        imdb_id     budget    revenue                      original_title  \\\n",
       "1676  tt0413300  258000000  890871626                        Spider-Man 3   \n",
       "766   tt1448755   66000000   57777106                        Killer Elite   \n",
       "1203  tt2302755   70000000  161025640                  Olympus Has Fallen   \n",
       "238   tt2752758    7000000   36433975                         Devil's Due   \n",
       "1544  tt0365830   22000000   13405595  Tenacious D in The Pick of Destiny   \n",
       "\n",
       "                                                   cast  \\\n",
       "1676  Tobey Maguire|Kirsten Dunst|James Franco|Thoma...   \n",
       "766   Jason Statham|Clive Owen|Robert De Niro|Domini...   \n",
       "1203  Gerard Butler|Aaron Eckhart|Angela Bassett|Mor...   \n",
       "238   Allison Miller|Zach Gilford|Sam Anderson|Rober...   \n",
       "1544  Jack Black|Kyle Gass|Ronnie James Dio|Tim Robb...   \n",
       "\n",
       "                                 director  \\\n",
       "1676                            Sam Raimi   \n",
       "766                         Gary McKendry   \n",
       "1203                        Antoine Fuqua   \n",
       "238   Matt Bettinelli-Olpin|Tyler Gillett   \n",
       "1544                           Liam Lynch   \n",
       "\n",
       "                                                tagline  \\\n",
       "1676                                 The battle within.   \n",
       "766                               May the Best Man Live   \n",
       "1203          When our flag falls our nation will rise.   \n",
       "238                       The Devil Always Gets His Due   \n",
       "1544  An epic quest. A magical guitar pick. A chance...   \n",
       "\n",
       "                                               overview  runtime  \\\n",
       "1676  The seemingly invincible Spider-Man goes up ag...      139   \n",
       "766   Based on a shocking true story, Killer Elite p...      116   \n",
       "1203  When the White House (Secret Service Code: \"Ol...      120   \n",
       "238   An unexpected pregnancy takes a terrifying tur...       89   \n",
       "1544  In Venice Beach, naive Midwesterner JB bonds w...       93   \n",
       "\n",
       "                         genres  \\\n",
       "1676   Fantasy|Action|Adventure   \n",
       "766   Action|Adventure|Thriller   \n",
       "1203            Action|Thriller   \n",
       "238                      Horror   \n",
       "1544               Comedy|Music   \n",
       "\n",
       "                                   production_companies release_date  \\\n",
       "1676  Columbia Pictures|Laura Ziskin Productions|Mar...     5/1/2007   \n",
       "766   Current Entertainment|Omnilab Media|Ambience E...    9/23/2011   \n",
       "1203                    Nu Image Films|Millennium Films    3/20/2013   \n",
       "238   Twentieth Century Fox Film Corporation|Davis E...     1/8/2014   \n",
       "1544                                     Red Hour Films   11/22/2006   \n",
       "\n",
       "      vote_average  release_year  \n",
       "1676           5.8          2007  \n",
       "766            6.0          2011  \n",
       "1203           6.2          2013  \n",
       "238            4.5          2014  \n",
       "1544           6.2          2006  "
      ]
     },
     "execution_count": 2,
     "metadata": {},
     "output_type": "execute_result"
    }
   ],
   "source": [
    "data = pd.read_csv('movie_bd_v5.csv')\n",
    "data.sample(5)"
   ]
  },
  {
   "cell_type": "code",
   "execution_count": 3,
   "metadata": {
    "colab": {},
    "colab_type": "code",
    "id": "CoYUnagMVp-C"
   },
   "outputs": [
    {
     "data": {
      "text/html": [
       "<div>\n",
       "<style scoped>\n",
       "    .dataframe tbody tr th:only-of-type {\n",
       "        vertical-align: middle;\n",
       "    }\n",
       "\n",
       "    .dataframe tbody tr th {\n",
       "        vertical-align: top;\n",
       "    }\n",
       "\n",
       "    .dataframe thead th {\n",
       "        text-align: right;\n",
       "    }\n",
       "</style>\n",
       "<table border=\"1\" class=\"dataframe\">\n",
       "  <thead>\n",
       "    <tr style=\"text-align: right;\">\n",
       "      <th></th>\n",
       "      <th>budget</th>\n",
       "      <th>revenue</th>\n",
       "      <th>runtime</th>\n",
       "      <th>vote_average</th>\n",
       "      <th>release_year</th>\n",
       "    </tr>\n",
       "  </thead>\n",
       "  <tbody>\n",
       "    <tr>\n",
       "      <th>count</th>\n",
       "      <td>1.889000e+03</td>\n",
       "      <td>1.889000e+03</td>\n",
       "      <td>1889.000000</td>\n",
       "      <td>1889.000000</td>\n",
       "      <td>1889.000000</td>\n",
       "    </tr>\n",
       "    <tr>\n",
       "      <th>mean</th>\n",
       "      <td>5.431083e+07</td>\n",
       "      <td>1.553653e+08</td>\n",
       "      <td>109.658549</td>\n",
       "      <td>6.140762</td>\n",
       "      <td>2007.860773</td>\n",
       "    </tr>\n",
       "    <tr>\n",
       "      <th>std</th>\n",
       "      <td>4.858721e+07</td>\n",
       "      <td>2.146698e+08</td>\n",
       "      <td>18.017041</td>\n",
       "      <td>0.764763</td>\n",
       "      <td>4.468841</td>\n",
       "    </tr>\n",
       "    <tr>\n",
       "      <th>min</th>\n",
       "      <td>5.000000e+06</td>\n",
       "      <td>2.033165e+06</td>\n",
       "      <td>63.000000</td>\n",
       "      <td>3.300000</td>\n",
       "      <td>2000.000000</td>\n",
       "    </tr>\n",
       "    <tr>\n",
       "      <th>25%</th>\n",
       "      <td>2.000000e+07</td>\n",
       "      <td>3.456058e+07</td>\n",
       "      <td>97.000000</td>\n",
       "      <td>5.600000</td>\n",
       "      <td>2004.000000</td>\n",
       "    </tr>\n",
       "    <tr>\n",
       "      <th>50%</th>\n",
       "      <td>3.800000e+07</td>\n",
       "      <td>8.361541e+07</td>\n",
       "      <td>107.000000</td>\n",
       "      <td>6.100000</td>\n",
       "      <td>2008.000000</td>\n",
       "    </tr>\n",
       "    <tr>\n",
       "      <th>75%</th>\n",
       "      <td>7.200000e+07</td>\n",
       "      <td>1.782626e+08</td>\n",
       "      <td>120.000000</td>\n",
       "      <td>6.600000</td>\n",
       "      <td>2012.000000</td>\n",
       "    </tr>\n",
       "    <tr>\n",
       "      <th>max</th>\n",
       "      <td>3.800000e+08</td>\n",
       "      <td>2.781506e+09</td>\n",
       "      <td>214.000000</td>\n",
       "      <td>8.100000</td>\n",
       "      <td>2015.000000</td>\n",
       "    </tr>\n",
       "  </tbody>\n",
       "</table>\n",
       "</div>"
      ],
      "text/plain": [
       "             budget       revenue      runtime  vote_average  release_year\n",
       "count  1.889000e+03  1.889000e+03  1889.000000   1889.000000   1889.000000\n",
       "mean   5.431083e+07  1.553653e+08   109.658549      6.140762   2007.860773\n",
       "std    4.858721e+07  2.146698e+08    18.017041      0.764763      4.468841\n",
       "min    5.000000e+06  2.033165e+06    63.000000      3.300000   2000.000000\n",
       "25%    2.000000e+07  3.456058e+07    97.000000      5.600000   2004.000000\n",
       "50%    3.800000e+07  8.361541e+07   107.000000      6.100000   2008.000000\n",
       "75%    7.200000e+07  1.782626e+08   120.000000      6.600000   2012.000000\n",
       "max    3.800000e+08  2.781506e+09   214.000000      8.100000   2015.000000"
      ]
     },
     "execution_count": 3,
     "metadata": {},
     "output_type": "execute_result"
    }
   ],
   "source": [
    "data.describe()"
   ]
  },
  {
   "cell_type": "markdown",
   "metadata": {
    "colab_type": "text",
    "id": "DTIt7ezGVp-G"
   },
   "source": [
    "# Предобработка"
   ]
  },
  {
   "cell_type": "code",
   "execution_count": 4,
   "metadata": {
    "colab": {},
    "colab_type": "code",
    "id": "jNb40DwKVp-H"
   },
   "outputs": [
    {
     "data": {
      "text/html": [
       "<div>\n",
       "<style scoped>\n",
       "    .dataframe tbody tr th:only-of-type {\n",
       "        vertical-align: middle;\n",
       "    }\n",
       "\n",
       "    .dataframe tbody tr th {\n",
       "        vertical-align: top;\n",
       "    }\n",
       "\n",
       "    .dataframe thead th {\n",
       "        text-align: right;\n",
       "    }\n",
       "</style>\n",
       "<table border=\"1\" class=\"dataframe\">\n",
       "  <thead>\n",
       "    <tr style=\"text-align: right;\">\n",
       "      <th></th>\n",
       "      <th>imdb_id</th>\n",
       "      <th>budget</th>\n",
       "      <th>revenue</th>\n",
       "      <th>original_title</th>\n",
       "      <th>cast</th>\n",
       "      <th>director</th>\n",
       "      <th>tagline</th>\n",
       "      <th>overview</th>\n",
       "      <th>runtime</th>\n",
       "      <th>genres</th>\n",
       "      <th>production_companies</th>\n",
       "      <th>release_date</th>\n",
       "      <th>vote_average</th>\n",
       "      <th>release_year</th>\n",
       "      <th>profit</th>\n",
       "    </tr>\n",
       "  </thead>\n",
       "  <tbody>\n",
       "    <tr>\n",
       "      <th>129</th>\n",
       "      <td>tt2713180</td>\n",
       "      <td>68000000</td>\n",
       "      <td>211817906</td>\n",
       "      <td>Fury</td>\n",
       "      <td>Brad Pitt|Shia LaBeouf|Logan Lerman|Michael Pe...</td>\n",
       "      <td>David Ayer</td>\n",
       "      <td>War never ends quietly.</td>\n",
       "      <td>Last months of World War II in April 1945. As ...</td>\n",
       "      <td>135</td>\n",
       "      <td>War|Drama|Action</td>\n",
       "      <td>Columbia Pictures|QED International|Crave Film...</td>\n",
       "      <td>10/15/2014</td>\n",
       "      <td>7.4</td>\n",
       "      <td>2014</td>\n",
       "      <td>143817906</td>\n",
       "    </tr>\n",
       "    <tr>\n",
       "      <th>190</th>\n",
       "      <td>tt2177771</td>\n",
       "      <td>70000000</td>\n",
       "      <td>154984035</td>\n",
       "      <td>The Monuments Men</td>\n",
       "      <td>Matt Damon|Cate Blanchett|George Clooney|Bill ...</td>\n",
       "      <td>George Clooney</td>\n",
       "      <td>It was the greatest art heist in history</td>\n",
       "      <td>Based on the true story of the greatest treasu...</td>\n",
       "      <td>118</td>\n",
       "      <td>War|Drama|History|Action</td>\n",
       "      <td>Columbia Pictures|Studio Babelsberg|Fox 2000 P...</td>\n",
       "      <td>1/24/2014</td>\n",
       "      <td>5.7</td>\n",
       "      <td>2014</td>\n",
       "      <td>84984035</td>\n",
       "    </tr>\n",
       "    <tr>\n",
       "      <th>859</th>\n",
       "      <td>tt1602098</td>\n",
       "      <td>8000000</td>\n",
       "      <td>5634828</td>\n",
       "      <td>Albert Nobbs</td>\n",
       "      <td>Glenn Close|Mia Wasikowska|Aaron Taylor-Johnso...</td>\n",
       "      <td>Rodrigo GarcÃ­a</td>\n",
       "      <td>A man with a secret. A woman with a dream.</td>\n",
       "      <td>Albert Nobbs struggles to survive in late 19th...</td>\n",
       "      <td>113</td>\n",
       "      <td>Drama</td>\n",
       "      <td>Chrysalis Films</td>\n",
       "      <td>12/21/2011</td>\n",
       "      <td>6.1</td>\n",
       "      <td>2011</td>\n",
       "      <td>-2365172</td>\n",
       "    </tr>\n",
       "    <tr>\n",
       "      <th>1701</th>\n",
       "      <td>tt0443706</td>\n",
       "      <td>65000000</td>\n",
       "      <td>84785914</td>\n",
       "      <td>Zodiac</td>\n",
       "      <td>Jake Gyllenhaal|Robert Downey Jr.|Mark Ruffalo...</td>\n",
       "      <td>David Fincher</td>\n",
       "      <td>There's more than one way to lose your life to...</td>\n",
       "      <td>The true story of the investigation of 'The Zo...</td>\n",
       "      <td>157</td>\n",
       "      <td>Crime|Drama|Mystery|Thriller</td>\n",
       "      <td>Paramount Pictures|Warner Bros.|Phoenix Pictures</td>\n",
       "      <td>3/2/2007</td>\n",
       "      <td>7.1</td>\n",
       "      <td>2007</td>\n",
       "      <td>19785914</td>\n",
       "    </tr>\n",
       "    <tr>\n",
       "      <th>1180</th>\n",
       "      <td>tt1300854</td>\n",
       "      <td>200000000</td>\n",
       "      <td>1215439994</td>\n",
       "      <td>Iron Man 3</td>\n",
       "      <td>Robert Downey Jr.|Gwyneth Paltrow|Guy Pearce|D...</td>\n",
       "      <td>Shane Black</td>\n",
       "      <td>Unleash the power behind the armor.</td>\n",
       "      <td>When Tony Stark's world is torn apart by a for...</td>\n",
       "      <td>130</td>\n",
       "      <td>Action|Adventure|Science Fiction</td>\n",
       "      <td>Marvel Studios</td>\n",
       "      <td>4/18/2013</td>\n",
       "      <td>6.9</td>\n",
       "      <td>2013</td>\n",
       "      <td>1015439994</td>\n",
       "    </tr>\n",
       "  </tbody>\n",
       "</table>\n",
       "</div>"
      ],
      "text/plain": [
       "        imdb_id     budget     revenue     original_title  \\\n",
       "129   tt2713180   68000000   211817906               Fury   \n",
       "190   tt2177771   70000000   154984035  The Monuments Men   \n",
       "859   tt1602098    8000000     5634828       Albert Nobbs   \n",
       "1701  tt0443706   65000000    84785914             Zodiac   \n",
       "1180  tt1300854  200000000  1215439994         Iron Man 3   \n",
       "\n",
       "                                                   cast         director  \\\n",
       "129   Brad Pitt|Shia LaBeouf|Logan Lerman|Michael Pe...       David Ayer   \n",
       "190   Matt Damon|Cate Blanchett|George Clooney|Bill ...   George Clooney   \n",
       "859   Glenn Close|Mia Wasikowska|Aaron Taylor-Johnso...  Rodrigo GarcÃ­a   \n",
       "1701  Jake Gyllenhaal|Robert Downey Jr.|Mark Ruffalo...    David Fincher   \n",
       "1180  Robert Downey Jr.|Gwyneth Paltrow|Guy Pearce|D...      Shane Black   \n",
       "\n",
       "                                                tagline  \\\n",
       "129                             War never ends quietly.   \n",
       "190            It was the greatest art heist in history   \n",
       "859          A man with a secret. A woman with a dream.   \n",
       "1701  There's more than one way to lose your life to...   \n",
       "1180                Unleash the power behind the armor.   \n",
       "\n",
       "                                               overview  runtime  \\\n",
       "129   Last months of World War II in April 1945. As ...      135   \n",
       "190   Based on the true story of the greatest treasu...      118   \n",
       "859   Albert Nobbs struggles to survive in late 19th...      113   \n",
       "1701  The true story of the investigation of 'The Zo...      157   \n",
       "1180  When Tony Stark's world is torn apart by a for...      130   \n",
       "\n",
       "                                genres  \\\n",
       "129                   War|Drama|Action   \n",
       "190           War|Drama|History|Action   \n",
       "859                              Drama   \n",
       "1701      Crime|Drama|Mystery|Thriller   \n",
       "1180  Action|Adventure|Science Fiction   \n",
       "\n",
       "                                   production_companies release_date  \\\n",
       "129   Columbia Pictures|QED International|Crave Film...   10/15/2014   \n",
       "190   Columbia Pictures|Studio Babelsberg|Fox 2000 P...    1/24/2014   \n",
       "859                                     Chrysalis Films   12/21/2011   \n",
       "1701   Paramount Pictures|Warner Bros.|Phoenix Pictures     3/2/2007   \n",
       "1180                                     Marvel Studios    4/18/2013   \n",
       "\n",
       "      vote_average  release_year      profit  \n",
       "129            7.4          2014   143817906  \n",
       "190            5.7          2014    84984035  \n",
       "859            6.1          2011    -2365172  \n",
       "1701           7.1          2007    19785914  \n",
       "1180           6.9          2013  1015439994  "
      ]
     },
     "execution_count": 4,
     "metadata": {},
     "output_type": "execute_result"
    }
   ],
   "source": [
    "answers = {} # создадим словарь для ответов\n",
    "\n",
    "# тут другие ваши предобработки колонок например:\n",
    "\n",
    "#the time given in the dataset is in string format.\n",
    "#So we need to change this in datetime format\n",
    "# ...\n",
    "\n",
    "#Profit calculation \"profit = revenue - budget\"\n",
    "profit = data.revenue - data.budget\n",
    "data.append(profit, ignore_index = True)\n",
    "data['profit'] = profit.values\n",
    "data.sample(5)"
   ]
  },
  {
   "cell_type": "markdown",
   "metadata": {
    "colab_type": "text",
    "id": "YxZaH-nPVp-L"
   },
   "source": [
    "# 1. У какого фильма из списка самый большой бюджет?"
   ]
  },
  {
   "cell_type": "markdown",
   "metadata": {
    "colab_type": "text",
    "id": "Nd-G5gX6Vp-M"
   },
   "source": [
    "Использовать варианты ответов в коде решения запрещено.    \n",
    "Вы думаете и в жизни у вас будут варианты ответов?)"
   ]
  },
  {
   "cell_type": "code",
   "execution_count": 5,
   "metadata": {
    "colab": {},
    "colab_type": "code",
    "id": "uVnXAY5RVp-O"
   },
   "outputs": [],
   "source": [
    "# в словарь вставляем номер вопроса и ваш ответ на него\n",
    "# Пример: \n",
    "answers['1'] = '2. Spider-Man 3 (tt0413300)'\n",
    "# запишите свой вариант ответа\n",
    "answers['1'] = 'Pirates of the Caribbean: On Stranger Tides (tt1298650)'\n",
    "# если ответили верно, можете добавить комментарий со значком \"+\""
   ]
  },
  {
   "cell_type": "code",
   "execution_count": 6,
   "metadata": {
    "colab": {},
    "colab_type": "code",
    "id": "dZwb3m28Vp-S"
   },
   "outputs": [
    {
     "data": {
      "text/plain": [
       "'Pirates of the Caribbean: On Stranger Tides'"
      ]
     },
     "execution_count": 6,
     "metadata": {},
     "output_type": "execute_result"
    }
   ],
   "source": [
    "# тут пишем ваш код для решения данного вопроса:\n",
    "#Creating a new dataframe by filtering the original 'data' dataframe, displaying movie title with the highest budget\n",
    "movie_max_budget = data[data.budget == data.budget.max()]\n",
    "movie_max_budget.original_title.values[0]"
   ]
  },
  {
   "cell_type": "markdown",
   "metadata": {
    "colab_type": "text",
    "id": "K7L3nbRXVp-X"
   },
   "source": [
    "ВАРИАНТ 2"
   ]
  },
  {
   "cell_type": "code",
   "execution_count": 0,
   "metadata": {
    "colab": {},
    "colab_type": "code",
    "id": "OGaoQI7rVp-X"
   },
   "outputs": [],
   "source": [
    "# можно добавлять разные варианты решения"
   ]
  },
  {
   "cell_type": "markdown",
   "metadata": {
    "colab_type": "text",
    "id": "FNRbbI3vVp-c"
   },
   "source": [
    "# 2. Какой из фильмов самый длительный (в минутах)?"
   ]
  },
  {
   "cell_type": "code",
   "execution_count": 7,
   "metadata": {
    "colab": {},
    "colab_type": "code",
    "id": "vHAoEXNTVp-d"
   },
   "outputs": [],
   "source": [
    "# думаю логику работы с этим словарем вы уже поняли, \n",
    "# по этому не буду больше его дублировать\n",
    "answers['2'] = 'Gods and Generals (tt0279111)'"
   ]
  },
  {
   "cell_type": "code",
   "execution_count": 8,
   "metadata": {
    "colab": {},
    "colab_type": "code",
    "id": "ot-VX2XrVp-g"
   },
   "outputs": [
    {
     "data": {
      "text/plain": [
       "'Gods and Generals'"
      ]
     },
     "execution_count": 8,
     "metadata": {},
     "output_type": "execute_result"
    }
   ],
   "source": [
    "#Creating a new dataframe by filtering the original 'data' dataframe, displaying a title of the longest movie from filtered dataset\n",
    "movie_longest_min = data[data.runtime == data.runtime.max()]\n",
    "movie_longest_min.original_title.values[0]"
   ]
  },
  {
   "cell_type": "markdown",
   "metadata": {
    "colab_type": "text",
    "id": "bapLlpW8Vp-k"
   },
   "source": [
    "# 3. Какой из фильмов самый короткий (в минутах)?\n",
    "\n",
    "\n",
    "\n"
   ]
  },
  {
   "cell_type": "code",
   "execution_count": 9,
   "metadata": {
    "colab": {},
    "colab_type": "code",
    "id": "YBxaSHuAVp-l"
   },
   "outputs": [
    {
     "data": {
      "text/plain": [
       "'Winnie the Pooh'"
      ]
     },
     "execution_count": 9,
     "metadata": {},
     "output_type": "execute_result"
    }
   ],
   "source": [
    "answers['3'] = 'Winnie the Pooh (tt1449283)'\n",
    "#Creating a new dataframe by filtering the original 'data' dataframe, displaying a title of the shortest movie from filtered dataset\n",
    "movie_shortest_min = data[data.runtime == data.runtime.min()]\n",
    "movie_shortest_min.original_title.values[0]"
   ]
  },
  {
   "cell_type": "markdown",
   "metadata": {
    "colab_type": "text",
    "id": "TfQbxbfNVp-p"
   },
   "source": [
    "# 4. Какова средняя длительность фильмов?\n"
   ]
  },
  {
   "cell_type": "code",
   "execution_count": 10,
   "metadata": {
    "colab": {},
    "colab_type": "code",
    "id": "5K6dKZYVVp-q"
   },
   "outputs": [
    {
     "data": {
      "text/plain": [
       "110.0"
      ]
     },
     "execution_count": 10,
     "metadata": {},
     "output_type": "execute_result"
    }
   ],
   "source": [
    "answers['4'] = '110'\n",
    "#Using mean() finction to get average movie runtime\n",
    "round(data.runtime.mean(),0)"
   ]
  },
  {
   "cell_type": "markdown",
   "metadata": {
    "colab_type": "text",
    "id": "r5TvbnT_Vp-u"
   },
   "source": [
    "# 5. Каково медианное значение длительности фильмов? "
   ]
  },
  {
   "cell_type": "code",
   "execution_count": 11,
   "metadata": {
    "colab": {},
    "colab_type": "code",
    "id": "iBROplKnVp-v"
   },
   "outputs": [
    {
     "data": {
      "text/plain": [
       "107.0"
      ]
     },
     "execution_count": 11,
     "metadata": {},
     "output_type": "execute_result"
    }
   ],
   "source": [
    "answers['5'] = '107'\n",
    "#Using median() finction to get average movie runtime\n",
    "round(data.runtime.median(),0)"
   ]
  },
  {
   "cell_type": "markdown",
   "metadata": {
    "colab_type": "text",
    "id": "39P-deDSVp-y"
   },
   "source": [
    "# 6. Какой самый прибыльный фильм?\n",
    "#### Внимание! Здесь и далее под «прибылью» или «убытками» понимается разность между сборами и бюджетом фильма. (прибыль = сборы - бюджет) в нашем датасете это будет (profit = revenue - budget) "
   ]
  },
  {
   "cell_type": "code",
   "execution_count": 12,
   "metadata": {
    "colab": {},
    "colab_type": "code",
    "id": "UYZh4T9WVp-y"
   },
   "outputs": [
    {
     "data": {
      "text/plain": [
       "'Avatar'"
      ]
     },
     "execution_count": 12,
     "metadata": {},
     "output_type": "execute_result"
    }
   ],
   "source": [
    "# лучше код получения столбца profit вынести в Предобработку что в начале\n",
    "answers['6'] = 'Avatar (tt0499549)'\n",
    "#Creating a new dataframe by filtering the original 'data' dataframe, displaying the most profitable movie from filtered dataset\n",
    "movie_max_profit = data[data.profit == data.profit.max()]\n",
    "movie_max_profit.original_title.values[0]"
   ]
  },
  {
   "cell_type": "markdown",
   "metadata": {
    "colab_type": "text",
    "id": "M99JmIX4Vp-2"
   },
   "source": [
    "# 7. Какой фильм самый убыточный? "
   ]
  },
  {
   "cell_type": "code",
   "execution_count": 14,
   "metadata": {
    "colab": {},
    "colab_type": "code",
    "id": "w-D2m4XPVp-3"
   },
   "outputs": [
    {
     "data": {
      "text/plain": [
       "'The Lone Ranger'"
      ]
     },
     "execution_count": 14,
     "metadata": {},
     "output_type": "execute_result"
    }
   ],
   "source": [
    "answers['7'] = 'The Lone Ranger (tt1210819)'\n",
    "#Creating a new dataframe by filtering the original 'data' dataframe, displaying the most unprofitable movie from filtered dataset\n",
    "movie_max_loss = data[data.profit == data.profit.min()]\n",
    "movie_max_loss.original_title.values[0]"
   ]
  },
  {
   "cell_type": "markdown",
   "metadata": {
    "colab_type": "text",
    "id": "wEOM5ERVVp-6"
   },
   "source": [
    "# 8. У скольких фильмов из датасета объем сборов оказался выше бюджета?"
   ]
  },
  {
   "cell_type": "code",
   "execution_count": 15,
   "metadata": {
    "colab": {},
    "colab_type": "code",
    "id": "y00_7HD6Vp-7"
   },
   "outputs": [
    {
     "data": {
      "text/plain": [
       "1478"
      ]
     },
     "execution_count": 15,
     "metadata": {},
     "output_type": "execute_result"
    }
   ],
   "source": [
    "answers['8'] = '1478'\n",
    "#Creating a new dataframe by filtering the original 'data' dataframe, using function len() to get number of dataframe rows \n",
    "revenue_higher_budget = data[data.revenue > data.budget]\n",
    "len(revenue_higher_budget)"
   ]
  },
  {
   "cell_type": "markdown",
   "metadata": {
    "colab_type": "text",
    "id": "xhpspA9KVp_A"
   },
   "source": [
    "# 9. Какой фильм оказался самым кассовым в 2008 году?"
   ]
  },
  {
   "cell_type": "code",
   "execution_count": 17,
   "metadata": {
    "colab": {},
    "colab_type": "code",
    "id": "MoUyQr9RVp_B"
   },
   "outputs": [
    {
     "data": {
      "text/plain": [
       "'The Dark Knight'"
      ]
     },
     "execution_count": 17,
     "metadata": {},
     "output_type": "execute_result"
    }
   ],
   "source": [
    "answers['9'] = 'The Dark Knight (tt0468569)'\n",
    "#Creating a new dataframe by filtering the original 'data' dataframe by release year and then by revenue, displaying the highest grossing movie\n",
    "movie_list_2008 = data[data.release_year == 2008]\n",
    "highest_grossing_movie = movie_list_2008[movie_list_2008.revenue == movie_list_2008.revenue.max()]\n",
    "highest_grossing_movie.original_title.values[0]"
   ]
  },
  {
   "cell_type": "markdown",
   "metadata": {
    "colab_type": "text",
    "id": "Zi4hDKidVp_F"
   },
   "source": [
    "# 10. Самый убыточный фильм за период с 2012 по 2014 г. (включительно)?\n"
   ]
  },
  {
   "cell_type": "code",
   "execution_count": 18,
   "metadata": {
    "colab": {},
    "colab_type": "code",
    "id": "XqyRmufJVp_F"
   },
   "outputs": [
    {
     "data": {
      "text/plain": [
       "'The Lone Ranger'"
      ]
     },
     "execution_count": 18,
     "metadata": {},
     "output_type": "execute_result"
    }
   ],
   "source": [
    "answers['10'] = 'The Lone Ranger (tt1210819)'\n",
    "#Creating a new dataframe by filtering the original 'data' dataframe by release year and then by profit, displaying the less grossing movie\n",
    "movie_list_2012_2014 = data[(data.release_year>=12) & (data.release_year <= 2014)]\n",
    "less_grossing_movie = movie_list_2012_2014[(movie_list_2012_2014.profit == movie_list_2012_2014.profit.min())]\n",
    "less_grossing_movie.original_title.values[0]"
   ]
  },
  {
   "cell_type": "markdown",
   "metadata": {
    "colab_type": "text",
    "id": "EA7Sa9dkVp_I"
   },
   "source": [
    "# 11. Какого жанра фильмов больше всего?"
   ]
  },
  {
   "cell_type": "code",
   "execution_count": 19,
   "metadata": {
    "colab": {},
    "colab_type": "code",
    "id": "zsJAwJ8QVp_J"
   },
   "outputs": [
    {
     "data": {
      "text/plain": [
       "[('Drama', 782)]"
      ]
     },
     "execution_count": 19,
     "metadata": {},
     "output_type": "execute_result"
    }
   ],
   "source": [
    "answers['11'] = 'Drama'\n",
    "# эту задачу тоже можно решать разными подходами, попробуй реализовать разные варианты\n",
    "# если будешь добавлять функцию - выноси ее в предобработку что в начале\n",
    "#Creating a new dataframe by copying the original 'data' dataframe by release year and then by profit, using Counter to count the most popular genre\n",
    "count_genres_max = data.copy()\n",
    "collections.Counter(count_genres_max['genres'].str.cat(sep = '|').split('|')).most_common(1) "
   ]
  },
  {
   "cell_type": "markdown",
   "metadata": {
    "colab_type": "text",
    "id": "Ax6g2C8SVp_M"
   },
   "source": [
    "ВАРИАНТ 2"
   ]
  },
  {
   "cell_type": "markdown",
   "metadata": {
    "colab_type": "text",
    "id": "T9_bPWpkVp_Q"
   },
   "source": [
    "# 12. Фильмы какого жанра чаще всего становятся прибыльными? "
   ]
  },
  {
   "cell_type": "code",
   "execution_count": 20,
   "metadata": {
    "colab": {},
    "colab_type": "code",
    "id": "Tmt8MaK1Vp_R",
    "scrolled": true
   },
   "outputs": [
    {
     "data": {
      "text/plain": [
       "[('Drama', 560)]"
      ]
     },
     "execution_count": 20,
     "metadata": {},
     "output_type": "execute_result"
    }
   ],
   "source": [
    "answers['12'] = 'Drama'\n",
    "#Creating a new dataframe by filtering the original 'data' dataframe by profit, using Counter to count the most prtofitable genre\n",
    "profitable_movies = data[data.profit > 0] \n",
    "collections.Counter(profitable_movies['genres'].str.cat(sep = '|').split('|')).most_common(1) "
   ]
  },
  {
   "cell_type": "markdown",
   "metadata": {
    "colab_type": "text",
    "id": "0F23bgsDVp_U"
   },
   "source": [
    "# 13. У какого режиссера самые большие суммарные кассовые сборы?"
   ]
  },
  {
   "cell_type": "code",
   "execution_count": 21,
   "metadata": {
    "colab": {},
    "colab_type": "code",
    "id": "K6Z3J8ygVp_X"
   },
   "outputs": [
    {
     "data": {
      "text/plain": [
       "'Peter Jackson'"
      ]
     },
     "execution_count": 21,
     "metadata": {},
     "output_type": "execute_result"
    }
   ],
   "source": [
    "answers['13'] = 'Peter Jackson'\n",
    "#Creating series with a total revienue gpouped by director\n",
    "revenue_by_director = data.groupby(['director'])['revenue'].sum()\n",
    "#Transformimg series to dataframe\n",
    "df_revenue_by_director = revenue_by_director.to_frame().reset_index()\n",
    "#Displaying director from filtered dataframe by the highest total revenue\n",
    "df_revenue_by_director[df_revenue_by_director.revenue == df_revenue_by_director.revenue.max()].director.values[0]"
   ]
  },
  {
   "cell_type": "markdown",
   "metadata": {
    "colab_type": "text",
    "id": "PsYC9FgRVp_a"
   },
   "source": [
    "# 14. Какой режисер снял больше всего фильмов в стиле Action?"
   ]
  },
  {
   "cell_type": "code",
   "execution_count": 22,
   "metadata": {},
   "outputs": [
    {
     "data": {
      "text/plain": [
       "[('Robert Rodriguez', 9)]"
      ]
     },
     "execution_count": 22,
     "metadata": {},
     "output_type": "execute_result"
    }
   ],
   "source": [
    "answers['14'] = 'Robert Rodriguez'\n",
    "#Creating a new dataframe by filtering the original 'data' dataframe by 'Action' genre, using Counter to define the director who mostly directed Actions\n",
    "action_movies = data[data.genres.str.contains('Action')]\n",
    "collections.Counter(action_movies['director'].str.cat(sep = '|').split('|')).most_common(1) "
   ]
  },
  {
   "cell_type": "markdown",
   "metadata": {
    "colab_type": "text",
    "id": "PQ0KciD7Vp_f"
   },
   "source": [
    "# 15. Фильмы с каким актером принесли самые высокие кассовые сборы в 2012 году? "
   ]
  },
  {
   "cell_type": "code",
   "execution_count": 24,
   "metadata": {},
   "outputs": [
    {
     "data": {
      "text/plain": [
       "[('Bruce Willis', 5)]"
      ]
     },
     "execution_count": 24,
     "metadata": {},
     "output_type": "execute_result"
    }
   ],
   "source": [
    "answers['15'] = 'Bruce Willis'\n",
    "#Creating a new dataframe by filtering the original 'data' dataframe by year, using Counter to define the most grossing movie in 2012\n",
    "most_grossing_movie_2012 = data[data.release_year == 2012]\n",
    "collections.Counter(most_grossing_movie_2012['cast'].str.cat(sep = '|').split('|')).most_common(1) "
   ]
  },
  {
   "cell_type": "markdown",
   "metadata": {
    "colab_type": "text",
    "id": "mWHyyL7QVp_j"
   },
   "source": [
    "# 16. Какой актер снялся в большем количестве высокобюджетных фильмов?"
   ]
  },
  {
   "cell_type": "code",
   "execution_count": 25,
   "metadata": {
    "colab": {},
    "colab_type": "code",
    "id": "qQtmHKTFVp_k"
   },
   "outputs": [
    {
     "data": {
      "text/plain": [
       "[('Matt Damon', 18)]"
      ]
     },
     "execution_count": 25,
     "metadata": {},
     "output_type": "execute_result"
    }
   ],
   "source": [
    "answers['16'] = 'Matt Damon'\n",
    "#Creating a new dataframe by filtering the original 'data' dataframe where budget is greater than mean budget, using Counter to define an actor who mostly played in high-budget movies\n",
    "high_budget_movie = data[data.budget > data.budget.mean()]\n",
    "collections.Counter(high_budget_movie['cast'].str.cat(sep = '|').split('|')).most_common(1) "
   ]
  },
  {
   "cell_type": "markdown",
   "metadata": {
    "colab_type": "text",
    "id": "NIh6AaW5Vp_n"
   },
   "source": [
    "# 17. В фильмах какого жанра больше всего снимался Nicolas Cage? "
   ]
  },
  {
   "cell_type": "code",
   "execution_count": 26,
   "metadata": {
    "colab": {},
    "colab_type": "code",
    "id": "H74SJDIBVp_n"
   },
   "outputs": [
    {
     "data": {
      "text/plain": [
       "[('Action', 17)]"
      ]
     },
     "execution_count": 26,
     "metadata": {},
     "output_type": "execute_result"
    }
   ],
   "source": [
    "answers['17'] = 'Action'\n",
    "#Creating a new dataframe by filtering the original 'data' dataframe by 'Nicolas Cage' actor, using Counter to define a mostly common genre for Nikolas Cage\n",
    "nicolas_cage_movies = data[data.cast.str.contains('Nicolas Cage')]\n",
    "collections.Counter(nicolas_cage_movies['genres'].str.cat(sep = '|').split('|')).most_common(1) "
   ]
  },
  {
   "cell_type": "markdown",
   "metadata": {},
   "source": [
    "# 18. Самый убыточный фильм от Paramount Pictures"
   ]
  },
  {
   "cell_type": "code",
   "execution_count": 28,
   "metadata": {},
   "outputs": [
    {
     "data": {
      "text/plain": [
       "'K-19: The Widowmaker'"
      ]
     },
     "execution_count": 28,
     "metadata": {},
     "output_type": "execute_result"
    }
   ],
   "source": [
    "answers['18'] = 'K-19: The Widowmaker (tt0267626)'\n",
    "#Creating a new dataframe by filtering the original 'data' dataframe by 'Paramount Pictures' production company and then by profit, displaying the most unprofitable movie\n",
    "paramount_pic_movies = data[data.production_companies.str.contains('Paramount Pictures')]\n",
    "paramount_pic_movies_loss = paramount_pic_movies[(paramount_pic_movies.profit == paramount_pic_movies.profit.min())]\n",
    "paramount_pic_movies_loss.original_title.values[0]"
   ]
  },
  {
   "cell_type": "markdown",
   "metadata": {
    "colab_type": "text",
    "id": "vS8Ur6ddVp_u"
   },
   "source": [
    "# 19. Какой год стал самым успешным по суммарным кассовым сборам?"
   ]
  },
  {
   "cell_type": "code",
   "execution_count": 29,
   "metadata": {
    "colab": {},
    "colab_type": "code",
    "id": "Dnbt4GdIVp_v"
   },
   "outputs": [
    {
     "data": {
      "text/plain": [
       "2015"
      ]
     },
     "execution_count": 29,
     "metadata": {},
     "output_type": "execute_result"
    }
   ],
   "source": [
    "answers['19'] = '2015'\n",
    "#Creating series with a total revienue gpouped by release_year\n",
    "revenue_by_year = data.groupby(['release_year'])['revenue'].sum()\n",
    "#Transformimg series to dataframe\n",
    "df_revenue_by_year = revenue_by_year.to_frame().reset_index()\n",
    "#Displaying the most successful year from filtered dataframe by the highest total revenue\n",
    "df_revenue_by_year[df_revenue_by_year.revenue == df_revenue_by_year.revenue.max()].release_year.values[0]"
   ]
  },
  {
   "cell_type": "markdown",
   "metadata": {
    "colab_type": "text",
    "id": "JAzJh4QAVp_z"
   },
   "source": [
    "# 20. Какой самый прибыльный год для студии Warner Bros?"
   ]
  },
  {
   "cell_type": "code",
   "execution_count": 31,
   "metadata": {
    "colab": {},
    "colab_type": "code",
    "id": "wgVu02DEVp_0"
   },
   "outputs": [
    {
     "data": {
      "text/plain": [
       "2014"
      ]
     },
     "execution_count": 31,
     "metadata": {},
     "output_type": "execute_result"
    }
   ],
   "source": [
    "answers['20'] = '2014'\n",
    "#Creating a new dataframe by filtering the original 'data' dataframe by 'Warner Bros' production company\n",
    "warner_bros_movies = data[data.production_companies.str.contains('Warner Bros')]\n",
    "#Creating series with a total revienue gpouped by release_year\n",
    "warner_bros_profit = warner_bros_movies.groupby(['release_year'])['profit'].sum()\n",
    "#Transformimg series to dataframe\n",
    "df_warner_bros_profit = warner_bros_profit.to_frame().reset_index()\n",
    "#Displaying the most successful year from filtered dataframe by the highest toyal revenue\n",
    "df_warner_bros_profit[df_warner_bros_profit.profit == df_warner_bros_profit.profit.max()].release_year.values[0]"
   ]
  },
  {
   "cell_type": "markdown",
   "metadata": {
    "colab_type": "text",
    "id": "8Im1S2HRVp_4"
   },
   "source": [
    "# 21. В каком месяце за все годы суммарно вышло больше всего фильмов?"
   ]
  },
  {
   "cell_type": "code",
   "execution_count": 32,
   "metadata": {
    "colab": {},
    "colab_type": "code",
    "id": "lev6TH7gVp_4"
   },
   "outputs": [
    {
     "data": {
      "text/plain": [
       "9     227\n",
       "12    190\n",
       "10    186\n",
       "8     161\n",
       "3     156\n",
       "4     149\n",
       "6     147\n",
       "11    146\n",
       "7     142\n",
       "5     140\n",
       "2     135\n",
       "1     110\n",
       "Name: month, dtype: int64"
      ]
     },
     "execution_count": 32,
     "metadata": {},
     "output_type": "execute_result"
    }
   ],
   "source": [
    "answers['21'] = '9'\n",
    "#Creating a new dataframe by copying the original 'data' dataframe\n",
    "total_movies_by_year = data.copy()\n",
    "#Listing date parameters using split() function\n",
    "total_movies_by_year['release_date'] = total_movies_by_year.release_date.str.split('/')\n",
    "#Getting month value for release dates using lambda function\n",
    "total_movies_by_year['month'] = total_movies_by_year['release_date'].apply(lambda x: x[0])\n",
    "#Count movies by month\n",
    "total_movies_by_year.month.value_counts()"
   ]
  },
  {
   "cell_type": "markdown",
   "metadata": {
    "colab_type": "text",
    "id": "uAJsZ_NeVp_7"
   },
   "source": [
    "# 22. Сколько суммарно вышло фильмов летом? (за июнь, июль, август)"
   ]
  },
  {
   "cell_type": "code",
   "execution_count": 33,
   "metadata": {
    "colab": {},
    "colab_type": "code",
    "id": "Aa-hEREoVp_8"
   },
   "outputs": [
    {
     "data": {
      "text/plain": [
       "450"
      ]
     },
     "execution_count": 33,
     "metadata": {},
     "output_type": "execute_result"
    }
   ],
   "source": [
    "answers['22'] = '450'\n",
    "#Creating a new dataframe by copying the original 'data' dataframe\n",
    "summer_movies = data.copy()\n",
    "#Listing date parameters using split() function\n",
    "summer_movies['release_date'] = summer_movies.release_date.str.split('/')\n",
    "#Getting month value for release dates using lambda function\n",
    "summer_movies['month'] = summer_movies['release_date'].apply(lambda x: x[0])\n",
    "#Filtering the only movies released in summer months\n",
    "summer_movies_total = summer_movies[summer_movies.month.isin(['6','7','8'])]\n",
    "#Count total number of the movies released in summer months\n",
    "len(summer_movies_total)"
   ]
  },
  {
   "cell_type": "markdown",
   "metadata": {},
   "source": [
    "# 23. Для какого режиссера зима – самое продуктивное время года?"
   ]
  },
  {
   "cell_type": "code",
   "execution_count": 34,
   "metadata": {
    "colab": {},
    "colab_type": "code",
    "id": "RhNTsamuVqAB"
   },
   "outputs": [
    {
     "data": {
      "text/plain": [
       "[('Peter Jackson', 7)]"
      ]
     },
     "execution_count": 34,
     "metadata": {},
     "output_type": "execute_result"
    }
   ],
   "source": [
    "answers['23'] = 'Peter Jackson'\n",
    "#Creating a new dataframe by copying the original 'data' dataframe\n",
    "product_director = data.copy()\n",
    "#Listing date parameters using split() function\n",
    "product_director.release_date = product_director.release_date.apply(lambda x:x.split('/'))\n",
    "#Getting month value for release dates using lambda function\n",
    "product_director ['release_date_month'] = product_director['release_date'].apply(lambda x: x[0])\n",
    "#Filtering the only movies released in winter months\n",
    "product_director_winter = product_director[product_director.release_date_month.isin(['12','1','2'])]\n",
    "#Using counter to define the most repeatable director for the filtered dataset\n",
    "collections.Counter(product_director_winter['director'].str.cat(sep = '|').split('|')).most_common(1) "
   ]
  },
  {
   "cell_type": "markdown",
   "metadata": {
    "colab_type": "text",
    "id": "RBo0JVjVVqAF"
   },
   "source": [
    "# 24. Какая студия дает самые длинные названия своим фильмам по количеству символов?"
   ]
  },
  {
   "cell_type": "code",
   "execution_count": 36,
   "metadata": {
    "colab": {},
    "colab_type": "code",
    "id": "QRGS8L0iVqAG"
   },
   "outputs": [
    {
     "data": {
      "text/plain": [
       "'Twentieth Century Fox Film Corporation|Four By Two Productions'"
      ]
     },
     "execution_count": 36,
     "metadata": {},
     "output_type": "execute_result"
    }
   ],
   "source": [
    "answers['24'] = 'Four By Two Productions'\n",
    "#Creating a new dataframe by copying the original 'data' dataframe\n",
    "long_movie_title = data.copy()\n",
    "#Defining movie title lenusing lambda function\n",
    "title_len = long_movie_title.original_title.apply(lambda x: len(x))\n",
    "#Adding movie title length as a dataframe column, assigning movie title length to the new column values\n",
    "long_movie_title.append(title_len, ignore_index=True)\n",
    "long_movie_title['title_len'] = title_len.values\n",
    "#Defining the longest movie title length and filtering dataframe by this condition, displaying respective production company\n",
    "long_movie_title_max = long_movie_title[long_movie_title.title_len == long_movie_title.title_len.max()]\n",
    "long_movie_title_max.production_companies.values[0]"
   ]
  },
  {
   "cell_type": "markdown",
   "metadata": {
    "colab_type": "text",
    "id": "9G0hbvR7VqAK"
   },
   "source": [
    "# 25. Описание фильмов какой студии в среднем самые длинные по количеству слов?"
   ]
  },
  {
   "cell_type": "code",
   "execution_count": 37,
   "metadata": {
    "colab": {},
    "colab_type": "code",
    "id": "Ge2GsLNxVqAK"
   },
   "outputs": [
    {
     "data": {
      "text/plain": [
       "production_companies\n",
       "Lions Gate Films|Lakeshore Entertainment|GreeneStreet Films|Midnight Picture Show    175.0\n",
       "Name: overview_len, dtype: float64"
      ]
     },
     "execution_count": 37,
     "metadata": {},
     "output_type": "execute_result"
    }
   ],
   "source": [
    "answers['25'] = 'Midnight Picture Show'\n",
    "#Creating a new dataframe by copying the original 'data' dataframe\n",
    "over_words = data.copy()\n",
    "#Listing movie overviewby separate words using split() function with a space as an argument\n",
    "overview_len = data.overview.map(lambda x: len(x.split(' ')))\n",
    "#Adding movie title length as a dataframe column, assigning number of words in overview to the new column values\n",
    "over_words.append(overview_len, ignore_index=True)\n",
    "over_words['overview_len'] = overview_len.values\n",
    "#Calculating mean for number of words in overview, sorting series in descening order, isplaying upper value\n",
    "over_words_over_mean = over_words.groupby(['production_companies'])['overview_len'].mean()\n",
    "over_words_over_mean_sorted=over_words_over_mean.sort_values(ascending=False)\n",
    "over_words_over_mean_sorted.head(1)"
   ]
  },
  {
   "cell_type": "markdown",
   "metadata": {
    "colab_type": "text",
    "id": "FJ1AFt90VqAP"
   },
   "source": [
    "# 26. Какие фильмы входят в 1 процент лучших по рейтингу? \n",
    "по vote_average"
   ]
  },
  {
   "cell_type": "code",
   "execution_count": 39,
   "metadata": {
    "colab": {},
    "colab_type": "code",
    "id": "8qmJVq4CVqAQ"
   },
   "outputs": [
    {
     "data": {
      "text/plain": [
       "9                                          Inside Out\n",
       "34                                               Room\n",
       "118                                      Interstellar\n",
       "119                           Guardians of the Galaxy\n",
       "125                                The Imitation Game\n",
       "128                                         Gone Girl\n",
       "138                          The Grand Budapest Hotel\n",
       "370                                         Inception\n",
       "599                                   The Dark Knight\n",
       "872                                       The Pianist\n",
       "1081    The Lord of the Rings: The Return of the King\n",
       "1183                          The Wolf of Wall Street\n",
       "1191                                 12 Years a Slave\n",
       "1800                                          Memento\n",
       "Name: original_title, dtype: object"
      ]
     },
     "execution_count": 39,
     "metadata": {},
     "output_type": "execute_result"
    }
   ],
   "source": [
    "answers['26'] = 'Inside Out, The Dark Knight, 12 Years a Slave'\n",
    "#Creating a new dataframe by copying the original 'data' dataframe\n",
    "pcnt1_greatest_movies = data.copy()\n",
    "#Filtering dataframe coomparing vote average with 99 quantile \n",
    "pcnt1_greatest_movies.original_title[pcnt1_greatest_movies.vote_average.quantile(.99) < pcnt1_greatest_movies.vote_average]"
   ]
  },
  {
   "cell_type": "markdown",
   "metadata": {
    "colab_type": "text",
    "id": "MdXsUXbCVqAV"
   },
   "source": [
    "# 27. Какие актеры чаще всего снимаются в одном фильме вместе?\n"
   ]
  },
  {
   "cell_type": "code",
   "execution_count": 40,
   "metadata": {},
   "outputs": [
    {
     "data": {
      "text/plain": [
       "[(('Daniel Radcliffe', 'Emma Watson'), 8),\n",
       " (('Daniel Radcliffe', 'Rupert Grint'), 8),\n",
       " (('Emma Watson', 'Rupert Grint'), 8)]"
      ]
     },
     "execution_count": 40,
     "metadata": {},
     "output_type": "execute_result"
    }
   ],
   "source": [
    "answers['27'] = 'Daniel Radcliffe & Rupert Grint'\n",
    "import itertools as it\n",
    "#Creating a new dataframe by copying the original 'data' dataframe\n",
    "cast_couples = data.copy()\n",
    "#Creating combinations of actors listing cast attribute and using combinations function from intertool module, using counter to define the most common pairs\n",
    "cast_couples['cast_comb'] = cast_couples.cast.str.split('|').apply(lambda x: tuple(it.combinations(sorted(x),2)))\n",
    "Counter(cast_couples.cast_comb.values.sum()).most_common(3)"
   ]
  },
  {
   "cell_type": "markdown",
   "metadata": {
    "colab_type": "text",
    "id": "4ymnxEVoVqAW"
   },
   "source": [
    "ВАРИАНТ 2"
   ]
  },
  {
   "cell_type": "markdown",
   "metadata": {
    "colab_type": "text",
    "id": "U0nONFnGVqAX"
   },
   "source": [
    "# Submission"
   ]
  },
  {
   "cell_type": "code",
   "execution_count": 41,
   "metadata": {
    "colab": {},
    "colab_type": "code",
    "id": "IfcaRO9-VqAX",
    "outputId": "0f132912-32bb-4196-c98c-abfbc4ad5a5f"
   },
   "outputs": [
    {
     "data": {
      "text/plain": [
       "{'1': 'Pirates of the Caribbean: On Stranger Tides (tt1298650)',\n",
       " '2': 'Gods and Generals (tt0279111)',\n",
       " '3': 'Winnie the Pooh (tt1449283)',\n",
       " '4': '110',\n",
       " '5': '107',\n",
       " '6': 'Avatar (tt0499549)',\n",
       " '7': 'The Lone Ranger (tt1210819)',\n",
       " '8': '1478',\n",
       " '9': 'The Dark Knight (tt0468569)',\n",
       " '10': 'The Lone Ranger (tt1210819)',\n",
       " '11': 'Drama',\n",
       " '12': 'Drama',\n",
       " '13': 'Peter Jackson',\n",
       " '14': 'Robert Rodriguez',\n",
       " '15': 'Bruce Willis',\n",
       " '16': 'Matt Damon',\n",
       " '17': 'Action',\n",
       " '18': 'K-19: The Widowmaker (tt0267626)',\n",
       " '19': '2015',\n",
       " '20': '2014',\n",
       " '21': '9',\n",
       " '22': '450',\n",
       " '23': 'Peter Jackson',\n",
       " '24': 'Four By Two Productions',\n",
       " '25': 'Midnight Picture Show',\n",
       " '26': 'Inside Out, The Dark Knight, 12 Years a Slave',\n",
       " '27': 'Daniel Radcliffe & Rupert Grint'}"
      ]
     },
     "execution_count": 41,
     "metadata": {},
     "output_type": "execute_result"
    }
   ],
   "source": [
    "# в конце можно посмотреть свои ответы к каждому вопросу\n",
    "answers"
   ]
  },
  {
   "cell_type": "code",
   "execution_count": 42,
   "metadata": {
    "colab": {},
    "colab_type": "code",
    "id": "SiRmHPl8VqAd"
   },
   "outputs": [
    {
     "data": {
      "text/plain": [
       "27"
      ]
     },
     "execution_count": 42,
     "metadata": {},
     "output_type": "execute_result"
    }
   ],
   "source": [
    "# и убедиться что ни чего не пропустил)\n",
    "len(answers)"
   ]
  }
 ],
 "metadata": {
  "colab": {
   "name": "Copy of [SF-DST] Movies IMBD v4.1 TEMPLATE.ipynb",
   "provenance": []
  },
  "kernelspec": {
   "display_name": "Python 3",
   "language": "python",
   "name": "python3"
  },
  "language_info": {
   "codemirror_mode": {
    "name": "ipython",
    "version": 3
   },
   "file_extension": ".py",
   "mimetype": "text/x-python",
   "name": "python",
   "nbconvert_exporter": "python",
   "pygments_lexer": "ipython3",
   "version": "3.7.3"
  }
 },
 "nbformat": 4,
 "nbformat_minor": 1
}
