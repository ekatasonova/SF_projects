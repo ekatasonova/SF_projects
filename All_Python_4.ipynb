{
 "cells": [
  {
   "cell_type": "code",
   "execution_count": 1,
   "metadata": {},
   "outputs": [
    {
     "name": "stdout",
     "output_type": "stream",
     "text": [
      "400\n"
     ]
    }
   ],
   "source": [
    "#Excercise 2.1\n",
    "def square(x):\n",
    "    return x**2\n",
    "\n",
    "# поменяйте эту строку на ваш код\n",
    "square_result = square(20)\n",
    "print(square_result)"
   ]
  },
  {
   "cell_type": "code",
   "execution_count": 2,
   "metadata": {},
   "outputs": [
    {
     "name": "stdout",
     "output_type": "stream",
     "text": [
      "115\n"
     ]
    }
   ],
   "source": [
    "#Excercise 3.1\n",
    "# Дополните аргументы и код функции\n",
    "def sum_2(x, y):\n",
    "    result = x+y\n",
    "    return result\n",
    "\n",
    "# Передайте аргументы 42 и 73 в функцию\n",
    "print(sum_2(42,73))"
   ]
  },
  {
   "cell_type": "code",
   "execution_count": 3,
   "metadata": {},
   "outputs": [],
   "source": [
    "#Excercise 3.2\n",
    "# Дополните аргументы и код функции\n",
    "def power(x, y):\n",
    "    result = x**y\n",
    "    return result"
   ]
  },
  {
   "cell_type": "code",
   "execution_count": 4,
   "metadata": {},
   "outputs": [
    {
     "data": {
      "text/plain": [
       "5.0"
      ]
     },
     "execution_count": 4,
     "metadata": {},
     "output_type": "execute_result"
    }
   ],
   "source": [
    "#Excercise 4.1\n",
    "def get_median(lst):\n",
    "    n = len(lst) \n",
    "    if n < 1: \n",
    "        return None \n",
    "    if n % 2 == 1: \n",
    "        return sorted(lst)[n//2] \n",
    "    else: \n",
    "        return sum(sorted(lst)[n//2-1:n//2+1])/2.0\n",
    "get_median([5, 2, 1, 3, 4])\n",
    "get_median([3, 3, 7, 9])"
   ]
  },
  {
   "cell_type": "code",
   "execution_count": 5,
   "metadata": {},
   "outputs": [
    {
     "name": "stdout",
     "output_type": "stream",
     "text": [
      "29.0\n"
     ]
    }
   ],
   "source": [
    "#Excercise 5.1\n",
    "user_db = [{'orders': 12}, {'orders': 30}, {'orders': 45}]\n",
    "\n",
    "# перепишите эту часть\n",
    "def avg_orders(user_db):\n",
    "    order_sum=0\n",
    "    for user in user_db:\n",
    "        order_sum+=user['orders']\n",
    "    orders_per_user = order_sum/len(user_db)\n",
    "    return(orders_per_user)\n",
    "print(avg_orders(user_db))"
   ]
  },
  {
   "cell_type": "code",
   "execution_count": 6,
   "metadata": {},
   "outputs": [],
   "source": [
    "#Excercise 5.2\n",
    "# добавьте функцию get_euro_rate\n",
    "def get_euro_rate(x,y):\n",
    "    import random\n",
    "    return(random.randint(x,y+1))\n",
    "\n",
    "# используйте get_euro_rate в следующей функции\n",
    "def to_euro(price):  \n",
    "    exchange_rate = get_euro_rate(x,y)  \n",
    "    rounded = round(price/exchange_rate, 2)  \n",
    "    return '€' + str(rounded)"
   ]
  },
  {
   "cell_type": "code",
   "execution_count": 7,
   "metadata": {},
   "outputs": [],
   "source": [
    "#Excercise 10.1\n",
    "values = [4, 8, 15, 16, 23, 42]\n",
    "mean = 18\n",
    "\n",
    "result = list(map(lambda value:value-mean,values)) # ваш код здесь "
   ]
  },
  {
   "cell_type": "code",
   "execution_count": null,
   "metadata": {},
   "outputs": [],
   "source": [
    "#Excercise 11.1\n",
    "values = [4, 8, 15, 16, 23, 42]\n",
    "mean = 18\n",
    "\n",
    "result = list(filter(lambda x: x>mean,values)) # ваш код здесь"
   ]
  },
  {
   "cell_type": "code",
   "execution_count": 8,
   "metadata": {},
   "outputs": [
    {
     "data": {
      "text/plain": [
       "[10.0, 20.0]"
      ]
     },
     "execution_count": 8,
     "metadata": {},
     "output_type": "execute_result"
    }
   ],
   "source": [
    "#Excercise 18.1\n",
    "def normalize(numbers, mean=0, std=1):\n",
    "    numbers_new=list()\n",
    "    for i in numbers:\n",
    "        result=(i-mean)/std\n",
    "        numbers_new.append(result)\n",
    "    return(numbers_new)\n",
    "normalize([10, 20])"
   ]
  },
  {
   "cell_type": "code",
   "execution_count": 9,
   "metadata": {},
   "outputs": [],
   "source": [
    "#Excercise 19.1\n",
    "def sum_args(*args):  \n",
    "    product = 0  \n",
    "    for num in args:  \n",
    "        product += num  \n",
    "    return product"
   ]
  }
 ],
 "metadata": {
  "kernelspec": {
   "display_name": "Python 3",
   "language": "python",
   "name": "python3"
  },
  "language_info": {
   "codemirror_mode": {
    "name": "ipython",
    "version": 3
   },
   "file_extension": ".py",
   "mimetype": "text/x-python",
   "name": "python",
   "nbconvert_exporter": "python",
   "pygments_lexer": "ipython3",
   "version": "3.7.3"
  }
 },
 "nbformat": 4,
 "nbformat_minor": 2
}
