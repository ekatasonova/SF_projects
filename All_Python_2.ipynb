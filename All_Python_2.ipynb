{
 "cells": [
  {
   "cell_type": "code",
   "execution_count": 4,
   "metadata": {},
   "outputs": [
    {
     "name": "stdout",
     "output_type": "stream",
     "text": [
      "408\n"
     ]
    }
   ],
   "source": [
    "#Exercise 6.8\n",
    "mylist=[]\n",
    "for i in range(1,51):\n",
    "    if i%3==0:\n",
    "        mylist.append(i)\n",
    "result = sum(mylist)\n",
    "print(result)"
   ]
  },
  {
   "cell_type": "code",
   "execution_count": 5,
   "metadata": {},
   "outputs": [
    {
     "name": "stdout",
     "output_type": "stream",
     "text": [
      "15\n"
     ]
    }
   ],
   "source": [
    "#Exercise 6.9\n",
    "raw_list = ['переменные', 'циклы', 'условия', 'списки', 'словари', 'файлы', 'функции']\n",
    "my_list=[]\n",
    "for name in raw_list:\n",
    "    my_list.append(len(name))\n",
    "name_min_length = min(my_list)\n",
    "name_max_length=max(my_list)\n",
    "result = name_min_length+name_max_length\n",
    "print(result)"
   ]
  },
  {
   "cell_type": "code",
   "execution_count": 7,
   "metadata": {},
   "outputs": [
    {
     "name": "stdout",
     "output_type": "stream",
     "text": [
      "5041\n"
     ]
    }
   ],
   "source": [
    "#Exercise 6.10\n",
    "raw_list = [2, 8, 10, 23, 64, 49, 11, 52, 71, 14]\n",
    "x_min=min(raw_list)\n",
    "x_max=max(raw_list)\n",
    "my_list=[]\n",
    "for i in raw_list:\n",
    "    if i%2!=0:\n",
    "        my_list.append(i*x_max)\n",
    "    else:\n",
    "        my_list.append(i*x_min)\n",
    "result = max(my_list)\n",
    "print(result)"
   ]
  },
  {
   "cell_type": "code",
   "execution_count": 9,
   "metadata": {},
   "outputs": [
    {
     "name": "stdout",
     "output_type": "stream",
     "text": [
      "[2.6457513110645907, 3.7416573867739413, 4.58257569495584, 5.291502622129181, 5.916079783099616, 6.48074069840786, 7.0]\n"
     ]
    }
   ],
   "source": [
    "#Exercise 7.9\n",
    "my_list =  [x**0.5 for x in range(1,50) if x%7==0] \n",
    "print(my_list)"
   ]
  },
  {
   "cell_type": "code",
   "execution_count": 10,
   "metadata": {},
   "outputs": [
    {
     "name": "stdout",
     "output_type": "stream",
     "text": [
      "[9, 10, 11, 12, 13, 14, 15, 16, 17, 18]\n"
     ]
    }
   ],
   "source": [
    "#Exercise 7.10\n",
    "my_list = [x%10+x//10 for x in range (90,100)]\n",
    "print(my_list)"
   ]
  },
  {
   "cell_type": "code",
   "execution_count": 11,
   "metadata": {},
   "outputs": [
    {
     "name": "stdout",
     "output_type": "stream",
     "text": [
      "A\n",
      "B\n",
      "C\n",
      "C\n",
      "A\n",
      "unknown\n"
     ]
    }
   ],
   "source": [
    "#Exercise 11.1\n",
    "draw_dict = {\n",
    "'Россия': 'A',\n",
    "'Португалия': 'B',\n",
    "'Франция': 'C',\n",
    "'Дания': 'C',\n",
    "'Египет': 'A'\n",
    "}\n",
    "request = ['Россия', 'Португалия', 'Франция','Дания','Египет','Италия']\n",
    "for country in request:\n",
    "    if country in draw_dict:\n",
    "        print(draw_dict[country])\n",
    "    else:\n",
    "        group='unknown'\n",
    "        print(group)"
   ]
  },
  {
   "cell_type": "code",
   "execution_count": 12,
   "metadata": {},
   "outputs": [
    {
     "name": "stdout",
     "output_type": "stream",
     "text": [
      "A\n",
      "B\n",
      "C\n",
      "C\n",
      "A\n",
      "unknown\n"
     ]
    }
   ],
   "source": [
    "#Exercise 11.2\n",
    "draw_dict = {\n",
    "'Россия': 'A',\n",
    "'Португалия': 'B',\n",
    "'Франция': 'C',\n",
    "'Дания': 'C',\n",
    "'Египет': 'A'\n",
    "}\n",
    "request = ['Россия', 'Португалия', 'Франция','Дания','Египет','Италия']\n",
    "for country in request:\n",
    "    if country in draw_dict:\n",
    "        print(draw_dict[country])\n",
    "    else:\n",
    "        group=draw_dict.setdefault(country,'unknown')\n",
    "        print(group)"
   ]
  },
  {
   "cell_type": "code",
   "execution_count": 15,
   "metadata": {},
   "outputs": [
    {
     "name": "stdout",
     "output_type": "stream",
     "text": [
      "{'Россия': 'A', 'Египет': 'A'}\n"
     ]
    }
   ],
   "source": [
    "#Exercise 13.1\n",
    "draw_dict = {\n",
    "'Россия': 'A',\n",
    "'Португалия': 'B',\n",
    "'Франция': 'C',\n",
    "'Дания': 'C',\n",
    "'Египет': 'A'\n",
    "}\n",
    "draw_new = {}\n",
    "for country in draw_dict:\n",
    "    if draw_dict[country] == 'A':\n",
    "        draw_new[country] = 'A'\n",
    "print(draw_new)"
   ]
  },
  {
   "cell_type": "code",
   "execution_count": 17,
   "metadata": {},
   "outputs": [
    {
     "name": "stdout",
     "output_type": "stream",
     "text": [
      "2\n"
     ]
    }
   ],
   "source": [
    "#Exercise 14.1\n",
    "employee_base = {'Мария Никитина': 'менеджер', 'Егор Савичев': 'разработчик', 'Александр Пахомов': 'дизайнер', 'Алина Егорова': 'разработчик', 'Руслан Башаров': 'верстальщик'}\n",
    "count_pos=0\n",
    "for position in employee_base.values():\n",
    "    if position == 'разработчик':\n",
    "        count_pos+=1\n",
    "print(count_pos)"
   ]
  },
  {
   "cell_type": "code",
   "execution_count": 19,
   "metadata": {},
   "outputs": [
    {
     "name": "stdout",
     "output_type": "stream",
     "text": [
      "{'Россия': 'A', 'Египет': 'A'}\n"
     ]
    }
   ],
   "source": [
    "#Exercise 15.1\n",
    "draw_dict = {\n",
    "'Россия': 'A',\n",
    "'Португалия': 'B',\n",
    "'Франция': 'C',\n",
    "'Дания': 'C',\n",
    "'Египет': 'A'\n",
    "}\n",
    "draw_new = {}\n",
    "for country, group in draw_dict.items():\n",
    "    if group == 'A':\n",
    "        draw_new[country] = 'A'\n",
    "print(draw_new)"
   ]
  },
  {
   "cell_type": "code",
   "execution_count": 20,
   "metadata": {},
   "outputs": [
    {
     "name": "stdout",
     "output_type": "stream",
     "text": [
      "13841\n"
     ]
    }
   ],
   "source": [
    "#Exercise 16.2\n",
    "daily_exp={'2019-04-01':2504, '2019-04-02':4994, '2019-04-03':6343}\n",
    "print(sum(daily_exp.values()))"
   ]
  },
  {
   "cell_type": "code",
   "execution_count": 21,
   "metadata": {},
   "outputs": [
    {
     "name": "stdout",
     "output_type": "stream",
     "text": [
      "100934\n"
     ]
    }
   ],
   "source": [
    "#Exercise 17.1\n",
    "csv_file = [\n",
    "    ['100412', 'Ботинки для горных лыж ATOMIC Hawx Prime 100', 9],\n",
    "    ['100728', 'Скейтборд Jdbug RT03', 32],\n",
    "    ['100732', 'Роллерсерф Razor RipStik Bright', 11],\n",
    "    ['100803', 'Ботинки для сноуборда DC Tucknee', 20],\n",
    "    ['100898', 'Шагомер Omron HJA-306', 2],\n",
    "    ['100934', 'Пульсометр Beurer PM62', 17],\n",
    "]\n",
    "pulsometer_id=csv_file[5][0]\n",
    "print(pulsometer_id)"
   ]
  },
  {
   "cell_type": "code",
   "execution_count": 23,
   "metadata": {},
   "outputs": [
    {
     "name": "stdout",
     "output_type": "stream",
     "text": [
      "[['100728', 'Скейтборд Jdbug RT03', 32], ['100732', 'Роллерсерф Razor RipStik Bright', 11], ['100803', 'Ботинки для сноуборда DC Tucknee', 20], ['100934', 'Пульсометр Beurer PM62', 17]]\n"
     ]
    }
   ],
   "source": [
    "#Exercise 18.1\n",
    "csv_file = [\n",
    "    ['100412', 'Ботинки для горных лыж ATOMIC Hawx Prime 100', 9],\n",
    "    ['100728', 'Скейтборд Jdbug RT03', 32],\n",
    "    ['100732', 'Роллерсерф Razor RipStik Bright', 11],\n",
    "    ['100803', 'Ботинки для сноуборда DC Tucknee', 20],\n",
    "    ['100898', 'Шагомер Omron HJA-306', 2],\n",
    "    ['100934', 'Пульсометр Beurer PM62', 17],\n",
    "]\n",
    "csv_file_filtered=[]\n",
    "for record in csv_file:\n",
    "    if record[2]>10:\n",
    "        csv_file_filtered.append(record)\n",
    "print(csv_file_filtered)"
   ]
  },
  {
   "cell_type": "code",
   "execution_count": 24,
   "metadata": {},
   "outputs": [
    {
     "name": "stdout",
     "output_type": "stream",
     "text": [
      "[{'id': '100412', 'position': 'Ботинки для горных лыж ATOMIC Hawx Prime 100', 'count': 9}]\n",
      "[{'id': '100412', 'position': 'Ботинки для горных лыж ATOMIC Hawx Prime 100', 'count': 9}, {'id': '100803', 'position': 'Ботинки для сноуборда DC Tucknee', 'count': 20}]\n"
     ]
    }
   ],
   "source": [
    "#Exercise 19.1\n",
    "csv_dict = [\n",
    "    {'id': '100412', 'position': 'Ботинки для горных лыж ATOMIC Hawx Prime 100', 'count': 9},\n",
    "    {'id': '100728', 'position': 'Скейтборд Jdbug RT03', 'count': 32},\n",
    "    {'id': '100732', 'position': 'Роллерсерф Razor RipStik Bright', 'count': 11},\n",
    "    {'id': '100803', 'position': 'Ботинки для сноуборда DC Tucknee', 'count': 20},\n",
    "    {'id': '100898', 'position': 'Шагомер Omron HJA-306', 'count': 2},\n",
    "    {'id': '100934', 'position': 'Пульсометр Beurer PM62', 'count': 17},\n",
    "]\n",
    "csv_dict_boots=[]\n",
    "for record in csv_dict:\n",
    "    if 'Ботинки' in record['position']:\n",
    "        csv_dict_boots.append(record)\n",
    "        print(csv_dict_boots)"
   ]
  },
  {
   "cell_type": "code",
   "execution_count": 25,
   "metadata": {},
   "outputs": [
    {
     "name": "stdout",
     "output_type": "stream",
     "text": [
      "98\n"
     ]
    }
   ],
   "source": [
    "#Exercise 20.2\n",
    "results = [\n",
    "{'cost': 98, 'source': 'vk'},\n",
    "{'cost': 153, 'source': 'yandex'},\n",
    "{'cost': 110, 'source': 'facebook'}]\n",
    "results_min=[]\n",
    "for record in results:\n",
    "    results_min.append(record['cost'])\n",
    "min_cost=min(results_min)\n",
    "print(min_cost)  "
   ]
  },
  {
   "cell_type": "code",
   "execution_count": null,
   "metadata": {},
   "outputs": [],
   "source": [
    "#Exercise 20.3"
   ]
  },
  {
   "cell_type": "code",
   "execution_count": 26,
   "metadata": {},
   "outputs": [
    {
     "name": "stdout",
     "output_type": "stream",
     "text": [
      "AMD\n"
     ]
    }
   ],
   "source": [
    "#Exercise 20.4\n",
    "currency = {\n",
    "'AMD': {\n",
    "'Name': 'Армянских драмов',\n",
    "'Nominal': 100,\n",
    "'Value': 13.121\n",
    "},\n",
    "\n",
    "'AUD': {\n",
    "'Name': 'Австралийский доллар',\n",
    "'Nominal': 1,\n",
    "'Value': 45.5309\n",
    "},\n",
    "\n",
    "'INR': {\n",
    "'Name': 'Индийских рупий',\n",
    "'Nominal': 100,\n",
    "'Value': 92.9658\n",
    "},\n",
    "\n",
    "'MDL': {\n",
    "'Name': 'Молдавских леев',\n",
    "'Nominal': 10,\n",
    "'Value': 36.9305\n",
    "},\n",
    "}\n",
    "results_currency=[]\n",
    "results_min=[]\n",
    "results_rate=[]\n",
    "for record in currency:\n",
    "    results_currency.append(record)\n",
    "for k in currency.items():\n",
    "    results_rate.append(k[1])\n",
    "for record in results_rate:\n",
    "    results_min.append(record['Value']/record['Nominal'])\n",
    "min_cost=results_min.index(min(results_min))\n",
    "print(results_currency[min_cost])"
   ]
  },
  {
   "cell_type": "code",
   "execution_count": 3,
   "metadata": {},
   "outputs": [],
   "source": [
    "#Exercise 20.5"
   ]
  },
  {
   "cell_type": "code",
   "execution_count": 3,
   "metadata": {},
   "outputs": [
    {
     "name": "stdout",
     "output_type": "stream",
     "text": [
      "[62526, 61944, 27115, 27115, 27115, 27115, 27115, 27115, 27115, 27115, 27115, 27115, 27115, 62017, 63120, 59883, 2913, 62940, 63149, 45391, 18923, 63019, 18923, 18923, 15759, 62007, 62941, 51009, 62236, 44682, 39709, 60459, 62144, 60459, 60459, 60459, 60459, 60459, 60459, 52492, 52492, 60459, 60459, 60459, 60459, 60459, 52492, 18923, 25301, 18923, 33645, 62089, 26705, 1103, 62439, 44196, 62602, 62602, 62602, 62602, 62602, 62602, 62602, 62602, 62602, 62602, 62602, 50149, 57009, 57207, 32792, 27323, 24500, 24500, 58330, 61245, 19799, 56544, 56544, 56544, 56544, 56544, 56544, 56544, 56544, 23207, 23207, 23207, 23207, 48128, 58113, 58113, 58113, 58113, 58113, 58113, 58113, 57613, 61244, 53666, 53018, 53666, 41737, 61078, 20820, 41737, 49700]\n",
      "Counter({60459: 12, 27115: 11, 62602: 11, 56544: 8, 58113: 7, 18923: 5, 23207: 4, 52492: 3, 24500: 2, 53666: 2, 41737: 2, 62526: 1, 61944: 1, 62017: 1, 63120: 1, 59883: 1, 2913: 1, 62940: 1, 63149: 1, 45391: 1, 63019: 1, 15759: 1, 62007: 1, 62941: 1, 51009: 1, 62236: 1, 44682: 1, 39709: 1, 62144: 1, 25301: 1, 33645: 1, 62089: 1, 26705: 1, 1103: 1, 62439: 1, 44196: 1, 50149: 1, 57009: 1, 57207: 1, 32792: 1, 27323: 1, 58330: 1, 61245: 1, 19799: 1, 48128: 1, 57613: 1, 61244: 1, 53018: 1, 61078: 1, 20820: 1, 49700: 1})\n",
      "51\n"
     ]
    }
   ],
   "source": [
    "#Exercise 27.1\n",
    "import json\n",
    "with open('data.json', 'rb') as infile:\n",
    "    data = json.load(infile)\n",
    "data_list = data['events_data']\n",
    "table_clients = []\n",
    "for item in data_list:\n",
    "    client_id = item['client_id']\n",
    "    category = item['category']\n",
    "    if category != '':\n",
    "        table_clients.append(client_id)\n",
    "print (table_clients)\n",
    "import collections\n",
    "c = collections.Counter()\n",
    "for table_client in table_clients:\n",
    "    c[table_client] += 1\n",
    "print (c)\n",
    "print (len(c.keys()))"
   ]
  },
  {
   "cell_type": "code",
   "execution_count": 8,
   "metadata": {},
   "outputs": [
    {
     "name": "stdout",
     "output_type": "stream",
     "text": [
      "5\n"
     ]
    }
   ],
   "source": [
    "#Exercise 27.2\n",
    "print(c[60459])"
   ]
  },
  {
   "cell_type": "code",
   "execution_count": 11,
   "metadata": {},
   "outputs": [
    {
     "name": "stdout",
     "output_type": "stream",
     "text": [
      "[60459, 60459, 60459, 60459, 60459, 62602, 62602, 58113]\n",
      "3\n"
     ]
    }
   ],
   "source": [
    "#Exercise 27.3\n",
    "table_clients = []\n",
    "for item in data_list:\n",
    "    client_id = item['client_id']\n",
    "    category = item['category']\n",
    "    if category =='report':\n",
    "        table_clients.append(client_id)\n",
    "print (table_clients)\n",
    "import collections\n",
    "c = collections.Counter()\n",
    "for table_client in table_clients:\n",
    "    c[table_client] += 1\n",
    "    a=sorted(c)\n",
    "print (len(c.keys()))"
   ]
  },
  {
   "cell_type": "code",
   "execution_count": 6,
   "metadata": {},
   "outputs": [
    {
     "name": "stdout",
     "output_type": "stream",
     "text": [
      "2\n"
     ]
    }
   ],
   "source": [
    "#Exercise 27.4\n",
    "print(c[62602])"
   ]
  },
  {
   "cell_type": "code",
   "execution_count": 10,
   "metadata": {},
   "outputs": [
    {
     "name": "stdout",
     "output_type": "stream",
     "text": [
      "[60459, 60459, 60459, 60459, 60459, 62602, 62602, 58113]\n",
      "[58113, 60459, 62602]\n"
     ]
    }
   ],
   "source": [
    "#Exercise 27.5\n",
    "#Exercise 27.3\n",
    "table_clients = []\n",
    "for item in data_list:\n",
    "    client_id = item['client_id']\n",
    "    category = item['category']\n",
    "    if category =='report':\n",
    "        table_clients.append(client_id)\n",
    "print (table_clients)\n",
    "import collections\n",
    "c = collections.Counter()\n",
    "for table_client in table_clients:\n",
    "    c[table_client] += 1\n",
    "    a=sorted(c)\n",
    "print (a)"
   ]
  }
 ],
 "metadata": {
  "kernelspec": {
   "display_name": "Python 3",
   "language": "python",
   "name": "python3"
  },
  "language_info": {
   "codemirror_mode": {
    "name": "ipython",
    "version": 3
   },
   "file_extension": ".py",
   "mimetype": "text/x-python",
   "name": "python",
   "nbconvert_exporter": "python",
   "pygments_lexer": "ipython3",
   "version": "3.7.3"
  }
 },
 "nbformat": 4,
 "nbformat_minor": 2
}
