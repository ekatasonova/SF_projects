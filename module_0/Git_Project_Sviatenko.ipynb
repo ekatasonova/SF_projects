{
 "cells": [
  {
   "cell_type": "code",
   "execution_count": null,
   "metadata": {},
   "outputs": [],
   "source": [
    "# Importing  'NumPy' library to work with arrays - to generate random number from a range\n",
    "import numpy as np\n",
    "\n",
    "number = np.random.randint(1,101)\n",
    "print (\"Please think of number between 1 and 100\") \n",
    "\n",
    "def game_prompt(number):\n",
    "    '''Firstly, defining a range secret number belongs to by spliting initial one into 4 subsequent sub-ranges. Depending on \n",
    "       sub-range, assining random value from this sub-range to compare a secret number with. Incrementing or decrementing \n",
    "       a randomly assigned value based on comparison results respectively.\n",
    "       Function gets a secret number as input and returns a number of prompts to guess it'''\n",
    "    count = 0\n",
    "    if number in range(1,26):\n",
    "        predict = np.random.randint(1,26)\n",
    "    elif number in range(25,51):\n",
    "        predict = np.random.randint(25,51)\n",
    "    elif number in range(50,76):\n",
    "        predict = np.random.randint(50,76)\n",
    "    else:\n",
    "        predict = np.random.randint(75,101)\n",
    "    while number != predict:\n",
    "        count += 1\n",
    "        if number > predict: \n",
    "            predict += 1\n",
    "        elif number < predict: \n",
    "            predict -= 1\n",
    "        else:\n",
    "            break\n",
    "    return(count)\n",
    "\n",
    "def score_game(game_core):\n",
    "    '''Runing the game 1000 times to know how quickly it guesses a secret number'''\n",
    "    count_ls = []\n",
    "    np.random.seed(1)\n",
    "    random_array = np.random.randint(1,101, size=(1000))\n",
    "    for number in random_array:\n",
    "        count_ls.append(game_core(number))\n",
    "    score = int(np.mean(count_ls))\n",
    "    print(f\"Your algorythm guesses a secret number by {score} prompts on average\")\n",
    "    return(score)\n",
    "\n",
    "score_game(game_prompt)"
   ]
  }
 ],
 "metadata": {
  "kernelspec": {
   "display_name": "Python 3",
   "language": "python",
   "name": "python3"
  },
  "language_info": {
   "codemirror_mode": {
    "name": "ipython",
    "version": 3
   },
   "file_extension": ".py",
   "mimetype": "text/x-python",
   "name": "python",
   "nbconvert_exporter": "python",
   "pygments_lexer": "ipython3",
   "version": "3.7.3"
  }
 },
 "nbformat": 4,
 "nbformat_minor": 2
}
