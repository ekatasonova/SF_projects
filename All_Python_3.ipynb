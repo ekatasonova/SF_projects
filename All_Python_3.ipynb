{
 "cells": [
  {
   "cell_type": "code",
   "execution_count": 1,
   "metadata": {},
   "outputs": [
    {
     "name": "stdout",
     "output_type": "stream",
     "text": [
      "рПгоарммсиыт- э оту тсорсйвт,ап ербоарузщюеик фоие н вок.д\n"
     ]
    }
   ],
   "source": [
    "#Excercise 2.4\n",
    "proverb = 'Программисты - это устройства, преобразующие кофеин в код.'\n",
    "\n",
    "new_index = 0\n",
    "new_proverb = ''\n",
    "\n",
    "for i in range(0, len(proverb)):\n",
    "    if i % 2 == 0:\n",
    "        new_index = i + 1\n",
    "    else:\n",
    "        new_index = i - 1\n",
    "    new_proverb += proverb[new_index]\n",
    "    \n",
    "print(new_proverb)"
   ]
  },
  {
   "cell_type": "code",
   "execution_count": 2,
   "metadata": {},
   "outputs": [
    {
     "name": "stdout",
     "output_type": "stream",
     "text": [
      "Слово \"программирование\" - это не палиндром\n"
     ]
    }
   ],
   "source": [
    "#Excercise 2.5\n",
    "basic_word = 'программирование'\n",
    "inverted_word = ''\n",
    "for i in range(len(basic_word)):\n",
    "    inverted_word += basic_word[-i-1]\n",
    "if inverted_word==basic_word:\n",
    "    print('Слово \"'+basic_word+'\" является палиндромом')\n",
    "else:\n",
    "    print('Слово \"'+basic_word+'\" - это не палиндром')"
   ]
  },
  {
   "cell_type": "code",
   "execution_count": 3,
   "metadata": {},
   "outputs": [
    {
     "name": "stdout",
     "output_type": "stream",
     "text": [
      "14\n"
     ]
    }
   ],
   "source": [
    "#Excercise 3.4\n",
    "number = 56.257\n",
    "str_number=str(number)\n",
    "digit_number=str_number[str_number.find('.')+1:]\n",
    "print(sum(map(int,digit_number)))"
   ]
  },
  {
   "cell_type": "code",
   "execution_count": 4,
   "metadata": {},
   "outputs": [
    {
     "name": "stdout",
     "output_type": "stream",
     "text": [
      "{'mail.ru': 3, 'yandex.ru': 5, 'gmail.com': 2}\n"
     ]
    }
   ],
   "source": [
    "#Excercise 3.5\n",
    "emails_list = ['vasya@mail.ru', \n",
    "          'akakiy@yandex.ru', \n",
    "          'spyderman@yandex.ru', \n",
    "          'XFiles@gmail.com', \n",
    "          'hello@mail.ru', \n",
    "          'noname@gmail.com', \n",
    "          'DonaldTrump@mail.ru', \n",
    "          'a768#af@yandex.ru', \n",
    "          'Ivan_Ivanovich@yandex.ru', \n",
    "          'thebestmail@yandex.ru']\n",
    "emails_dict = {}\n",
    "\n",
    "for line in emails_list:\n",
    "    info = line.split('@')\n",
    "    domain_name = info[1]\n",
    "    if domain_name in emails_dict :\n",
    "        emails_dict [domain_name] += 1\n",
    "    else:\n",
    "        emails_dict [domain_name] = 1\n",
    "print(emails_dict)"
   ]
  },
  {
   "cell_type": "code",
   "execution_count": 5,
   "metadata": {},
   "outputs": [
    {
     "name": "stdout",
     "output_type": "stream",
     "text": [
      "Тяжёлая интернет:)зависимость :) это когда ты выходишь из интернета:) а он из тебя нет:)\n"
     ]
    }
   ],
   "source": [
    "#Excercise 4.4\n",
    "string = 'Тяжёлая интернет-зависимость - это когда ты выходишь из интернета, а он из тебя нет.'\n",
    "for i in string:\n",
    "    if i in ('.',',',':','-','!','?'):\n",
    "        string = string.replace(i,':)')\n",
    "print (string)"
   ]
  },
  {
   "cell_type": "code",
   "execution_count": 6,
   "metadata": {},
   "outputs": [
    {
     "name": "stdout",
     "output_type": "stream",
     "text": [
      "С - согласная буква\n",
      "е - гласная буква\n",
      "в - согласная буква\n",
      "а - гласная буква\n",
      "с - согласная буква\n",
      "т - согласная буква\n",
      "и - гласная буква\n",
      "а - гласная буква\n",
      "н - согласная буква\n"
     ]
    }
   ],
   "source": [
    "#Excercise 4.5\n",
    "name = 'Севастиан'\n",
    "vowels_str='а у о ы и э я ю ё е'\n",
    "consonants_str='б в г д ж з й к л м н п р с т ф х ц ч ш щ'\n",
    "vowels_upper=vowels_str.upper()\n",
    "consonants_upper=consonants_str.upper()\n",
    "#print(consonants_upper)\n",
    "#print(vowels_upper)\n",
    "vowels_list_upper=vowels_upper.split(' ')\n",
    "consonants_list_upper=consonants_upper.split(' ')\n",
    "#print(vowels_list_upper)\n",
    "#print(consonants_list_upper)\n",
    "vowels_list_str=vowels_str.split(' ')\n",
    "consonants_list_str=consonants_str.split(' ')\n",
    "#('а', 'у', 'о', 'ы', 'и', 'э', 'я', 'ю', 'ё', 'е')\n",
    "#consonants_list_str=('б', 'в', 'г', 'д', 'ж', 'з', 'й', 'к', 'л', 'м', 'н', 'п', 'р', 'с', 'т', 'ф', 'х', 'ц', 'ч', 'ш', 'щ')\n",
    "for letter in name:\n",
    "    if letter in vowels_list_str or letter in vowels_list_upper:\n",
    "        print(letter,'- гласная буква')\n",
    "    elif letter in consonants_list_str or letter in consonants_list_upper:\n",
    "        print(letter,'- согласная буква')"
   ]
  },
  {
   "cell_type": "code",
   "execution_count": 1,
   "metadata": {},
   "outputs": [
    {
     "name": "stdout",
     "output_type": "stream",
     "text": [
      "118\n"
     ]
    }
   ],
   "source": [
    "#Excercise 7.1\n",
    "f = open('StudentsPerformance.csv') \n",
    "parent_diploma = 0\n",
    "for line in f:\n",
    "    info = line.split(',')\n",
    "    diploma = info[2][1:-1]\n",
    "    if diploma == \"bachelor's degree\":\n",
    "        parent_diploma += 1\n",
    "print(parent_diploma)"
   ]
  },
  {
   "cell_type": "code",
   "execution_count": 8,
   "metadata": {},
   "outputs": [
    {
     "name": "stdout",
     "output_type": "stream",
     "text": [
      "6\n"
     ]
    }
   ],
   "source": [
    "#Excercise 7.2\n",
    "f = open('StudentsPerformance.csv')\n",
    "parent_education = []\n",
    "result=[]\n",
    "for line in f:\n",
    "    info = line.split(',')\n",
    "    diploma = info[2][1:-1]\n",
    "    parent_education.append(diploma)\n",
    "for item in parent_education:\n",
    "    if item not in result:\n",
    "        result.append(item)\n",
    "print(len(result)-1)"
   ]
  },
  {
   "cell_type": "code",
   "execution_count": 9,
   "metadata": {},
   "outputs": [
    {
     "name": "stdout",
     "output_type": "stream",
     "text": [
      "64.5\n"
     ]
    }
   ],
   "source": [
    "#Excercise 7.3\n",
    "f = open('StudentsPerformance.csv')\n",
    "lunch = 0 \n",
    "for line in f: \n",
    "    info = line.split(',') \n",
    "    st_lunch = info[3][1:-1] \n",
    "    if st_lunch == \"standard\": \n",
    "        lunch += 1 \n",
    "print(lunch*100/1000)"
   ]
  },
  {
   "cell_type": "code",
   "execution_count": 10,
   "metadata": {},
   "outputs": [
    {
     "name": "stdout",
     "output_type": "stream",
     "text": [
      "319\n"
     ]
    }
   ],
   "source": [
    "#Excercise 7.4\n",
    "f = open('StudentsPerformance.csv')\n",
    "group_C = 0 \n",
    "for line in f: \n",
    "    info = line.split(',') \n",
    "    st_lunch = info[1][1:-1] \n",
    "    if st_lunch == \"group C\": \n",
    "        group_C += 1 \n",
    "print(group_C)"
   ]
  },
  {
   "cell_type": "code",
   "execution_count": 11,
   "metadata": {},
   "outputs": [
    {
     "name": "stdout",
     "output_type": "stream",
     "text": [
      "5\n"
     ]
    }
   ],
   "source": [
    "#Excercise 7.5\n",
    "f = open('StudentsPerformance.csv')\n",
    "etno_group = []\n",
    "result=[]\n",
    "for line in f:\n",
    "    info = line.split(',')\n",
    "    diploma = info[1][1:-1]\n",
    "    etno_group.append(diploma)\n",
    "for item in etno_group:\n",
    "    if item not in result:\n",
    "        result.append(item)\n",
    "print(len(result)-1)"
   ]
  },
  {
   "cell_type": "code",
   "execution_count": 12,
   "metadata": {},
   "outputs": [
    {
     "name": "stdout",
     "output_type": "stream",
     "text": [
      "69.169\n"
     ]
    }
   ],
   "source": [
    "#Excercise 8.1\n",
    "reading = []\n",
    "\n",
    "f = open('StudentsPerformance.csv')\n",
    "\n",
    "for line in f:\n",
    "    info = line.split(',')\n",
    "    if info[0] == '\"gender\"':\n",
    "        continue\n",
    "    else:\n",
    "        mark = int(info[6][1:-1])\n",
    "        reading.append(mark) \n",
    "reading_avg = sum(reading)/len(reading)\n",
    "print(reading_avg)"
   ]
  },
  {
   "cell_type": "code",
   "execution_count": null,
   "metadata": {},
   "outputs": [],
   "source": [
    "#Excercise 8.2"
   ]
  },
  {
   "cell_type": "code",
   "execution_count": 13,
   "metadata": {},
   "outputs": [
    {
     "name": "stdout",
     "output_type": "stream",
     "text": [
      "72.60810810810811\n"
     ]
    }
   ],
   "source": [
    "#Excercise 8.3\n",
    "reading = []\n",
    "gender_list=[]\n",
    "reading_low_avg=0\n",
    "f = open('StudentsPerformance.csv')\n",
    "\n",
    "for line in f:\n",
    "    info = line.split(',')\n",
    "    if info[0] == '\"gender\"':\n",
    "        continue\n",
    "    elif 'female' in line:\n",
    "        mark = int(info[6][1:-1])\n",
    "        gender = info[0][1:-1]\n",
    "        reading.append(mark) \n",
    "        gender_list.append(gender)\n",
    "reading_avg = sum(reading)/len(reading)\n",
    "print(reading_avg)"
   ]
  },
  {
   "cell_type": "code",
   "execution_count": 17,
   "metadata": {},
   "outputs": [
    {
     "name": "stdout",
     "output_type": "stream",
     "text": [
      "68\n"
     ]
    }
   ],
   "source": [
    "#Excercise 8.4\n",
    "f = open('StudentsPerformance.csv')\n",
    "writing = []\n",
    "result=0\n",
    "for line in f:\n",
    "    info = line.split(',')\n",
    "    if info[0] == '\"gender\"':\n",
    "        continue\n",
    "    else:\n",
    "        writing_score = int(info[7][1:-2])\n",
    "        writing.append(writing_score)\n",
    "for item in writing:\n",
    "    if item > 90:\n",
    "        result+=1\n",
    "print(result)"
   ]
  },
  {
   "cell_type": "code",
   "execution_count": 18,
   "metadata": {},
   "outputs": [
    {
     "name": "stdout",
     "output_type": "stream",
     "text": [
      "86.76470588235294\n"
     ]
    }
   ],
   "source": [
    "#Excercise 8.5\n",
    "f = open('StudentsPerformance.csv')\n",
    "writing = []\n",
    "writing_st = []\n",
    "lunch=[]\n",
    "result_wr=0\n",
    "for line in f:\n",
    "    info = line.split(',')\n",
    "    if info[0] == '\"gender\"':\n",
    "        continue\n",
    "    elif 'standard' in line:\n",
    "        mark = int(info[7][1:-2])\n",
    "        gender = info[3][1:-1]\n",
    "        writing.append(mark) \n",
    "        gender_list.append(gender)\n",
    "for item in writing:\n",
    "    if item > 90:\n",
    "        result_wr+=1\n",
    "print(result_wr/result*100)"
   ]
  },
  {
   "cell_type": "code",
   "execution_count": 19,
   "metadata": {},
   "outputs": [
    {
     "name": "stdout",
     "output_type": "stream",
     "text": [
      "{'group B': {'none': 122, 'completed': 68}, 'group C': {'completed': 117, 'none': 202}, 'group A': {'none': 58, 'completed': 31}, 'group D': {'completed': 82, 'none': 180}, 'group E': {'none': 80, 'completed': 60}}\n"
     ]
    }
   ],
   "source": [
    "#Excercise 9.4\n",
    "students = {}\n",
    "\n",
    "f = open('StudentsPerformance.csv')\n",
    "\n",
    "for line in f:\n",
    "    info = line.split(',')\n",
    "    if info[0] == '\"gender\"':\n",
    "        continue\n",
    "    else:\n",
    "        gender = info[1][1:-1]\n",
    "        lunch = info[4][1:-1]\n",
    "        if gender in students:\n",
    "            if lunch in students[gender]:\n",
    "                students[gender][lunch] += 1\n",
    "            else:\n",
    "                students[gender][lunch] = 1\n",
    "        else:\n",
    "            students[gender] = {}\n",
    "            students[gender][lunch] = 1 \n",
    "print(students)"
   ]
  },
  {
   "cell_type": "code",
   "execution_count": 20,
   "metadata": {},
   "outputs": [
    {
     "name": "stdout",
     "output_type": "stream",
     "text": [
      "65.47302904564316\n"
     ]
    }
   ],
   "source": [
    "#Excercise 10.1\n",
    "reading = []\n",
    "gender_list=[]\n",
    "reading_low_avg=0\n",
    "f = open('StudentsPerformance.csv')\n",
    "\n",
    "for line in f:\n",
    "    info = line.split(',')\n",
    "    if info[0] == '\"gender\"':\n",
    "        continue\n",
    "    elif info[0][1:-1]=='male':\n",
    "        mark = int(info[6][1:-1])\n",
    "        gender = info[0][1:-1]\n",
    "        reading.append(mark) \n",
    "        gender_list.append(gender)\n",
    "reading_avg = sum(reading)/len(reading)\n",
    "print(reading_avg)"
   ]
  },
  {
   "cell_type": "code",
   "execution_count": 21,
   "metadata": {},
   "outputs": [
    {
     "name": "stdout",
     "output_type": "stream",
     "text": [
      "63.02253521126761\n"
     ]
    }
   ],
   "source": [
    "#Excercise 10.3\n",
    "reading = []\n",
    "gender_list=[]\n",
    "reading_low_avg=0\n",
    "f = open('StudentsPerformance.csv')\n",
    "\n",
    "for line in f:\n",
    "    info = line.split(',')\n",
    "    if info[0] == '\"gender\"':\n",
    "        continue\n",
    "    elif info[3][1:-1]=='free/reduced':\n",
    "        mark = int(info[7][1:-2])\n",
    "        gender = info[0][1:-1]\n",
    "        reading.append(mark) \n",
    "        gender_list.append(gender)\n",
    "reading_avg = sum(reading)/len(reading)\n",
    "print(reading_avg)"
   ]
  }
 ],
 "metadata": {
  "kernelspec": {
   "display_name": "Python 3",
   "language": "python",
   "name": "python3"
  },
  "language_info": {
   "codemirror_mode": {
    "name": "ipython",
    "version": 3
   },
   "file_extension": ".py",
   "mimetype": "text/x-python",
   "name": "python",
   "nbconvert_exporter": "python",
   "pygments_lexer": "ipython3",
   "version": "3.7.3"
  }
 },
 "nbformat": 4,
 "nbformat_minor": 2
}
